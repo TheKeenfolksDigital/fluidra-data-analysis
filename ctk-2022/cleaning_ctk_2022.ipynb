{
 "cells": [
  {
   "cell_type": "code",
   "execution_count": 3,
   "metadata": {
    "collapsed": true
   },
   "outputs": [],
   "source": [
    "import pandas as pd\n",
    "from datetime import timedelta"
   ]
  },
  {
   "cell_type": "code",
   "execution_count": 4,
   "outputs": [],
   "source": [
    "df2 = pd.read_csv(\"CTK 2022.csv\")"
   ],
   "metadata": {
    "collapsed": false
   }
  },
  {
   "cell_type": "code",
   "execution_count": 5,
   "outputs": [
    {
     "data": {
      "text/plain": "                      Company [code+name]  Year Booking date (order)  \\\n0     141- CERTIKIN INTERNATIONAL LIMITED  2022  2022-05-06 00:00:00   \n1     141- CERTIKIN INTERNATIONAL LIMITED  2022  2022-05-19 00:00:00   \n2     141- CERTIKIN INTERNATIONAL LIMITED  2022  2022-05-30 00:00:00   \n3     141- CERTIKIN INTERNATIONAL LIMITED  2022  2022-09-07 00:00:00   \n4     141- CERTIKIN INTERNATIONAL LIMITED  2022  2022-05-29 00:00:00   \n...                                   ...   ...                  ...   \n3880  141- CERTIKIN INTERNATIONAL LIMITED  2022  2022-11-08 00:00:00   \n3881  141- CERTIKIN INTERNATIONAL LIMITED  2022  2022-11-07 00:00:00   \n3882  141- CERTIKIN INTERNATIONAL LIMITED  2022  2022-11-22 00:00:00   \n3883  141- CERTIKIN INTERNATIONAL LIMITED  2022  2022-12-12 00:00:00   \n3884  141- CERTIKIN INTERNATIONAL LIMITED  2022  2022-12-12 00:00:00   \n\n      Customer code                Customer name  Segment code (customer)  \\\n0                 3                    A A Pools                     15.0   \n1                 3                    A A Pools                     15.0   \n2                 3                    A A Pools                     15.0   \n3                 3                    A A Pools                     15.0   \n4                 3                    A A Pools                     15.0   \n...             ...                          ...                      ...   \n3880           4454  DOODLE BUILD CONTAINERS LTD                     15.0   \n3881           4457                TOMMICKS LTD!                     15.0   \n3882           4457                TOMMICKS LTD!                     15.0   \n3883           4457                TOMMICKS LTD!                     15.0   \n3884           4457                TOMMICKS LTD!                     15.0   \n\n             Segment name (customer) Global CoFX Amount (net)  \\\n0     POOL SPECIALIST-Instal/Builder                   935,51   \n1     POOL SPECIALIST-Instal/Builder                   221,79   \n2     POOL SPECIALIST-Instal/Builder                   134,32   \n3     POOL SPECIALIST-Instal/Builder                   247,94   \n4     POOL SPECIALIST-Instal/Builder                    14,48   \n...                              ...                      ...   \n3880  POOL SPECIALIST-Instal/Builder                    14,48   \n3881  POOL SPECIALIST-Instal/Builder                   403,80   \n3882  POOL SPECIALIST-Instal/Builder                    57,81   \n3883  POOL SPECIALIST-Instal/Builder                    27,27   \n3884  POOL SPECIALIST-Instal/Builder                    14,48   \n\n     Sales order number  Order origin  \n0               0545651            25  \n1               0548344            25  \n2               0550421            25  \n3               0567739            25  \n4             HAZARDOUS            25  \n...                 ...           ...  \n3880          HAZARDOUS            25  \n3881            0575531            25  \n3882            0577383            25  \n3883            0579733            25  \n3884          HAZARDOUS            25  \n\n[3885 rows x 10 columns]",
      "text/html": "<div>\n<style scoped>\n    .dataframe tbody tr th:only-of-type {\n        vertical-align: middle;\n    }\n\n    .dataframe tbody tr th {\n        vertical-align: top;\n    }\n\n    .dataframe thead th {\n        text-align: right;\n    }\n</style>\n<table border=\"1\" class=\"dataframe\">\n  <thead>\n    <tr style=\"text-align: right;\">\n      <th></th>\n      <th>Company [code+name]</th>\n      <th>Year</th>\n      <th>Booking date (order)</th>\n      <th>Customer code</th>\n      <th>Customer name</th>\n      <th>Segment code (customer)</th>\n      <th>Segment name (customer)</th>\n      <th>Global CoFX Amount (net)</th>\n      <th>Sales order number</th>\n      <th>Order origin</th>\n    </tr>\n  </thead>\n  <tbody>\n    <tr>\n      <th>0</th>\n      <td>141- CERTIKIN INTERNATIONAL LIMITED</td>\n      <td>2022</td>\n      <td>2022-05-06 00:00:00</td>\n      <td>3</td>\n      <td>A A Pools</td>\n      <td>15.0</td>\n      <td>POOL SPECIALIST-Instal/Builder</td>\n      <td>935,51</td>\n      <td>0545651</td>\n      <td>25</td>\n    </tr>\n    <tr>\n      <th>1</th>\n      <td>141- CERTIKIN INTERNATIONAL LIMITED</td>\n      <td>2022</td>\n      <td>2022-05-19 00:00:00</td>\n      <td>3</td>\n      <td>A A Pools</td>\n      <td>15.0</td>\n      <td>POOL SPECIALIST-Instal/Builder</td>\n      <td>221,79</td>\n      <td>0548344</td>\n      <td>25</td>\n    </tr>\n    <tr>\n      <th>2</th>\n      <td>141- CERTIKIN INTERNATIONAL LIMITED</td>\n      <td>2022</td>\n      <td>2022-05-30 00:00:00</td>\n      <td>3</td>\n      <td>A A Pools</td>\n      <td>15.0</td>\n      <td>POOL SPECIALIST-Instal/Builder</td>\n      <td>134,32</td>\n      <td>0550421</td>\n      <td>25</td>\n    </tr>\n    <tr>\n      <th>3</th>\n      <td>141- CERTIKIN INTERNATIONAL LIMITED</td>\n      <td>2022</td>\n      <td>2022-09-07 00:00:00</td>\n      <td>3</td>\n      <td>A A Pools</td>\n      <td>15.0</td>\n      <td>POOL SPECIALIST-Instal/Builder</td>\n      <td>247,94</td>\n      <td>0567739</td>\n      <td>25</td>\n    </tr>\n    <tr>\n      <th>4</th>\n      <td>141- CERTIKIN INTERNATIONAL LIMITED</td>\n      <td>2022</td>\n      <td>2022-05-29 00:00:00</td>\n      <td>3</td>\n      <td>A A Pools</td>\n      <td>15.0</td>\n      <td>POOL SPECIALIST-Instal/Builder</td>\n      <td>14,48</td>\n      <td>HAZARDOUS</td>\n      <td>25</td>\n    </tr>\n    <tr>\n      <th>...</th>\n      <td>...</td>\n      <td>...</td>\n      <td>...</td>\n      <td>...</td>\n      <td>...</td>\n      <td>...</td>\n      <td>...</td>\n      <td>...</td>\n      <td>...</td>\n      <td>...</td>\n    </tr>\n    <tr>\n      <th>3880</th>\n      <td>141- CERTIKIN INTERNATIONAL LIMITED</td>\n      <td>2022</td>\n      <td>2022-11-08 00:00:00</td>\n      <td>4454</td>\n      <td>DOODLE BUILD CONTAINERS LTD</td>\n      <td>15.0</td>\n      <td>POOL SPECIALIST-Instal/Builder</td>\n      <td>14,48</td>\n      <td>HAZARDOUS</td>\n      <td>25</td>\n    </tr>\n    <tr>\n      <th>3881</th>\n      <td>141- CERTIKIN INTERNATIONAL LIMITED</td>\n      <td>2022</td>\n      <td>2022-11-07 00:00:00</td>\n      <td>4457</td>\n      <td>TOMMICKS LTD!</td>\n      <td>15.0</td>\n      <td>POOL SPECIALIST-Instal/Builder</td>\n      <td>403,80</td>\n      <td>0575531</td>\n      <td>25</td>\n    </tr>\n    <tr>\n      <th>3882</th>\n      <td>141- CERTIKIN INTERNATIONAL LIMITED</td>\n      <td>2022</td>\n      <td>2022-11-22 00:00:00</td>\n      <td>4457</td>\n      <td>TOMMICKS LTD!</td>\n      <td>15.0</td>\n      <td>POOL SPECIALIST-Instal/Builder</td>\n      <td>57,81</td>\n      <td>0577383</td>\n      <td>25</td>\n    </tr>\n    <tr>\n      <th>3883</th>\n      <td>141- CERTIKIN INTERNATIONAL LIMITED</td>\n      <td>2022</td>\n      <td>2022-12-12 00:00:00</td>\n      <td>4457</td>\n      <td>TOMMICKS LTD!</td>\n      <td>15.0</td>\n      <td>POOL SPECIALIST-Instal/Builder</td>\n      <td>27,27</td>\n      <td>0579733</td>\n      <td>25</td>\n    </tr>\n    <tr>\n      <th>3884</th>\n      <td>141- CERTIKIN INTERNATIONAL LIMITED</td>\n      <td>2022</td>\n      <td>2022-12-12 00:00:00</td>\n      <td>4457</td>\n      <td>TOMMICKS LTD!</td>\n      <td>15.0</td>\n      <td>POOL SPECIALIST-Instal/Builder</td>\n      <td>14,48</td>\n      <td>HAZARDOUS</td>\n      <td>25</td>\n    </tr>\n  </tbody>\n</table>\n<p>3885 rows × 10 columns</p>\n</div>"
     },
     "execution_count": 5,
     "metadata": {},
     "output_type": "execute_result"
    }
   ],
   "source": [
    "df2"
   ],
   "metadata": {
    "collapsed": false
   }
  },
  {
   "cell_type": "code",
   "execution_count": 6,
   "outputs": [
    {
     "data": {
      "text/plain": "array(['A A Pools', 'AG BUDGET SWIMMING POOLS', 'ALMA TRON LIMITED',\n       'ALL SWIM LTD', 'AQUAFAYRE POOL & LEISURE SVCS',\n       'AQUA LEISURE LTD', 'AQUASWIM SERVICES LIMITED!', 'AQUEOUS POOLS',\n       'AQUASCAPES LTD', 'AQUASCAPE SWIMMING POOL LTD',\n       'THREE COUNTIES POOLS & SPAS LTD', 'ASHER SWIMPOOL CENTRE LTD',\n       'INTO THE BLUE LTD', 'AUSTIN POOL SERVICES &',\n       'BAKEWELL POOLS LTD', 'ALAN BETTIN LTD', 'F BRICKELL & SONS LTD',\n       'BUBBLETUBS LTD', 'BUCKLAND POOL & BUILDING COMPANY LTD',\n       'FAWRONA LTD T/A BUTLER SERVICE', 'CATALINA SPAS LIMITED',\n       'CALLOW TOP HOLIDAY PARK', 'CB POOL SERVICING LTD',\n       'T/A CHESHIRE WELLNESS', 'CHISWELL POOLS LTD',\n       'CLEAR WATER REVIVAL LIMITED', 'CLEARWAY POOLS LTD',\n       'C R F SWIMMING POOLS', 'CRYSTAL CLEAR SWIM POOL SERV !',\n       'CRYSTAL POOLS SERVICES LIMITED', 'DAVID JOHNS',\n       'K DOWNS SWIMMING POOLS', 'CLOSED 20/01/23 NESTON CRT T/A DUDLEY',\n       'EDMUNDSON ELECTRICAL LTD', 'ELM LEISURE LTD',\n       'DAMAR SUPPLIES LIMITED T/AS', 'FREEDOM LEISURE  !',\n       'GILLINGHAM POOLS LTD', 'GIRAFFE ENTERPRISES LTD',\n       'J W GREEN SWIMMING POOLS LTD!', 'H2O SERVICING LTD',\n       'M WINTER T/A HOME COUNTIES', 'HTP INC LIMITED',\n       'HILDEN SWIMMING POOLS !', 'INTERPLAN LEISURE LIMITED',\n       'JACKSONS LEISURE SUPPLIES LTD', 'ROGER JAMES POOLS LTD',\n       'UK POOL STORE LTD', 'JSA LEISURE LIMITED', 'KB POOLS LTD',\n       'KINGFISHER POOLCARE LTD', 'LANGLEY POOL SERVICES LIMITED',\n       'ORIGIN LEISURE LTD', 'LETTS SWIMMING POOLS LIMITED',\n       'HOWSON POOLS LIMITED', 'LEISURE POOLS LTD',\n       'MAJESTIC POOLS LIMITED', 'MANX SAUNAS LTD', 'MCS POOL SERVICES',\n       'M & D TRIMM', 'MERLIN POOLS AND SPAS LLP (COLCHESTER)', 'KALTECH',\n       'MOSAIC SWIMMING POOLS & SPAS LTD', 'NAUTILUS POOLS LTD',\n       'NEUMAN AQUA LTD', 'CAMPBELL POOLS LTD',\n       'NEWSON SWIMMING POOLS LTD', 'NIRVANA SPA & LEISURE LTD',\n       'PALM TREE POOLS LTD', 'PANACHE POOLS LTD', 'E J PAYNE LTD',\n       'PBS POOLS LTD', 'PEGASUS POOLS LTD', 'PHYSICAL COMPANY LTD',\n       'P J LE MAITRE !', 'PLANSCAPES LEISURE LTD',\n       'POOL MECHANIX LIMITED', 'POOLWORX LIMITED', 'POOL SUPPLIES LTD',\n       'POOL FRAMES AND SUPPLIES LTD !', 'SWIMMING POOLS (MIDLANDS)',\n       'POLAR POOLS LTD', \"POOL 'N' SPA SERVICES LTD\",\n       'POOLS & GARDENS LIMITED', 'POOLS PLUS LLP',\n       'PREMIER POOL SERVICES', 'P R COOLING SERVICES LIMITED',\n       'PRESTIGE SWIMMING POOLS LTD', 'POOLTEC SERVICES LTD !',\n       'TRACIE SKINNER T/AS PUREPOOLS', 'ROCKINGHAM SWIMMING POOLS LTD',\n       'RS POOLS LTD', 'SEALION SWIMMING POOLS AND SPAS LTD !',\n       'T/A THE POOL LADY', 'SMALLBONE POOLS !',\n       'SPA DE LA MARE LTD DORSET ACC', 'SPAPOOL   !', 'SPLASH & RELAX',\n       'SPRUCE SERVICES LIMITED', 'SWIMMING POOL SOLUTIONS LTD',\n       'MR R MADGWICK T/A SUNSHINE POOLS', 'SWIMFIX LTD',\n       'CHRIS THAYRE SWIMMING POOLS', 'ROB COTTLE !', '1066 POOLS LTD',\n       'Topline Electronics Ltd', 'POOLMAN LEISURE GROUP LIMITED!',\n       'UNIPOOLS LTD', 'THE WATERSPLASH CLUB',\n       'WEARSIDE CIVIL ENGINEERING LTD', 'WENSUM POOLS LTD',\n       'WEST COUNTRY LEISURE POOL (DEVON)',\n       'WOKINGHAM POOLS AND SPAS LTD', 'XL POOLS LTD',\n       'TANBY LEISURE PRODUCTS LTD', 'AQS GROUP LTD', 'DWS LEISURE',\n       'MERMAID SYSTEMS LTD', 'IAN STOKES T/A AQUA RIO',\n       'T/A WELSH HOT TUBS', 'ON-SITE POOL LININGS LTD !',\n       'RG POOLS AND LEISURE LTD', 'JML POOLS LTD',\n       'LOVE2SWIM HAMPSHIRE LTD  !', 'BLUEPOOLS LTD',\n       'A & D SWIMMING POOLS LTD', 'TONY KNIGHT',\n       'AQUATIC IMPACT LTD (AQUATICS)', 'CD AQUATICS  (AQUATICS)',\n       'ATOLL CONSTRUCTION LTD', 'APULIA POOLS', 'GARETH JAMES POOLS',\n       'SERENITY POOLS !', 'SHIRLEY AQUATICS (1984) LTD (AQUATICS)',\n       'OASIS SWIMMING POOLS (KENT) LTD', 'AMAZON EU S.A.R.L (AQUATICS)',\n       'HEAT PUMPS 4 POOLS LTD', 'RIVIERA HOT TUBS LTD',\n       'J.P SWIMMING POOL SOLUTIONS LTD', 'AQUASTYLE POOLS LTD',\n       'THIRD MILLENNIUM ENERGY LTD',\n       'COMPLETE SWIMMING POOL SERVICES LTD',\n       'CRYSTAL CLEAR POOLS LIMITED', 'POOL SOLUTIONS (SCOTLAND)',\n       'YOLO INVESTMENT COMPANY LTD', 'POOLS, SPAS AND LANDSCAPES LTD',\n       'PACIFIC POOLS LTD T/A POOL TRADE COUNT',\n       'THE COTSWOLD POOL COMPANY LTD', 'AQUARIUS POOL SERVICES LTD',\n       'SURESPA LTD', 'STEVE MAYNARD PROPERTY SERVICES !',\n       'OXFORD POOLS AND HOT TUBS LIMITED', 'JB ELITE SERVICES LTD',\n       'MEB TOTAL LTD', 'SEYMOUR POOLS LTD',\n       'ELITE SPAS & LEISURE SW LTD', 'SAFFRON SWIMMING POOLS LTD',\n       'TOTAL LEISURE ENGINEERING LTD',\n       'W COOMBES & SONS (CONTRACTORS) LTD',\n       'LIFESTYLE BUILDING SERVICES!', 'AQUAPOOLCO',\n       'NORTH EAST SWIMMING POOLS LIMITED !', 'SSL POOLS LTD',\n       'OCEANOS POOLS LTD !', 'AZURE POOL SERVICES LTD', 'BTA LEISURE !',\n       'POOL ENGINEERING UK', 'POOLWORKS LTD',\n       'T/A SOLENT POOLS AND HOT TUBS', 'GKING T/A THERMAL LEISURE',\n       'HIGHTECH WATER SERVICES LTD', 'OLYMPIC CONSTRUCTION NORFOLK LTD',\n       'SMART POOLS LTD', 'EXETER POOLS LTD', 'BOILERS 4 ESSEX LTD',\n       'T/A MIDLAND POOL SERVICES !', 'UNICORN POOLS AND HOT TUBS LTD',\n       'CORNISH HOT TUBS LIMITED', 'PERFECT POOLS !',\n       'PENINSULA POOLS LTD', 'ABS POOLS LIMITED !',\n       'APM POOL CARE LTD !', 'WATER ARTISANS LTD', 'W D S LIMITED!',\n       'YORKSHIRE HOT TUBS LTD!', 'CANADIAN SPA IRELAND!',\n       'RICHMOND PARK POOLS !', 'SPAZIO DESIGN LIMITED!',\n       'BOMBINA SERVICES!', 'GALA SWIMMING POOLS LTD', 'T/A RELAX ESSEX',\n       'STOW AGRICULTURAL LTD', 'ROCKHOPPER POOLS LTD',\n       'T/A MALPELO POOLS', 'SPAFLO LTD', 'T/A WOOZELBEARS MELKSHAM !',\n       'T/A THE POOL CLEANERS !', 'T/A A.T.POOL SERVICES!',\n       'S J POOL SERVICES!', 'AQUATEC POOLS', 'POOL ASSIST LIMITED',\n       'PHOENIX FILTRATION LTD!', 'T/A HOT TUB HUB',\n       'SPRAYED CONCRETE SOLUTIONS LTD', 'T/A OXFORD POOL STORE',\n       'HYDROCARE LEISURE LTD', 'FAIRLOCKS POOL PRODUCTS LTD',\n       'MARSHALL SWIMMING POOLS LTD', 'FRANKLYNAIR LTD!',\n       'GO AQUA UK LTD', 'A2Z POOLS', 'T/A AGUA CALIENTE POOL DESIGN !',\n       'LEW KEAY & SONS', 'THE POOL PEOPLE!', 'B.T.U SUPPLIES LTD',\n       'KENT AND SUSSEX POOL CONSTRUCTION LTD!', 'TOTAL POOL CARE LTD !',\n       'SOUTH WEST AIR TECH!', 'ENERGISE LEISURE LTD!',\n       'THE NATURAL POOL COMPANY LTD!', 'AQUA PROJECTS!',\n       'CENTURION CORPORATE SOLUTIONS LTD!',\n       'BARRYS SWIMMING POOL & SPA SOLUTIONS!', 'SURREY POOLS AND WATER!',\n       'POOL COVER SERVICING!', 'HENDY CURZON GARDENS LTD',\n       'HEATHCREST HEATING SERVICES LTD', 'AQUA PLATINUM SERVICING LTD',\n       'ELEMENTS OF NATURE LTD!', 'POOL AND SPA TECH',\n       'LEISURESAFE SOLUTIONS!', 'SHAPE FABRICATION LTD !',\n       'CREATIVE POOLS & LEISURE LTD!', 'CIRENCESTER POOLS!',\n       'LUXOR POOLS LTD!', 'JENESIS SERVICES!',\n       'SPECIALIST LINING SERVICES LIMITED!', 'ASTER LEE LTD!',\n       'SALOP POOL SERVICES', 'ORBRO POOLS LIMITED',\n       'TANK TIDY LTD(AQUATICS)!', 'CLARITY POOLCARE!',\n       'CHEMICAL BOX LIMITED!', 'ALL FOR ONE CONSULTANCY LTD!',\n       'TWINSCAPE GROUP LTD!', 'THE COMPLETE POOL COMPANY!',\n       'T/A CHESHIRE POOL SUPPLIES!', 'ECOBLUE POOL AND SPA LTD!',\n       'AMANDI HOLDINGS LIMITED!', 'SIMPLEX SWIMMING POOLS LTD',\n       'T/A KIEREN BEAN POOLS & SPA!', 'MARK THE POOL GUY!',\n       'HOT TUB HIRE LIMITED!', 'G3 POOL AND SPAS!', 'S & S POOLS!',\n       'BUILTH WELLS VETERINARY PRACTICE LTD!', 'FACILITY SOLUTIONS',\n       'POOLGENIX LTD!', 'G & O ENGINEERS LTD', 'SG POOL SERVICES!',\n       'AUGUST POOLS LTD!', 'UK POOLS AND SPAS!',\n       'T/A LOXONE FLAGSHIP PARTNER AUTOMATE!',\n       'OCEAN ELECTRICAL/SWIMMING POOL SOL LTD!', 'JOHN PYKE!',\n       'SUNSCAPE INNOVATIONS LTD!', 'TOM FOSTER!', 'OTIUM SWIMMING POOLS',\n       'P & P LEISURE POOLS LTD', 'POOL ENGINEERING LTD!',\n       'BROUGHTON HOLDINGS!', 'DOODLE BUILD CONTAINERS LTD',\n       'TOMMICKS LTD!'], dtype=object)"
     },
     "execution_count": 6,
     "metadata": {},
     "output_type": "execute_result"
    }
   ],
   "source": [
    "df2[\"Customer name\"].unique()"
   ],
   "metadata": {
    "collapsed": false
   }
  },
  {
   "cell_type": "code",
   "execution_count": 7,
   "outputs": [],
   "source": [
    "df2[\"Customer name\"] = df2[\"Customer name\"].str.replace(r' - 100', '')\n",
    "df2[\"Customer name\"] = df2[\"Customer name\"].str.replace(r'(?!-)[^\\w\\s]', '', regex=True)\n",
    "df2[\"Customer name\"] = df2[\"Customer name\"].str.replace('Ã‘', 'A')\n",
    "df2[\"Customer name\"] = df2[\"Customer name\"].str.replace('Ã“', 'A')\n",
    "df2[\"Customer name\"] = df2[\"Customer name\"].str.replace(r'[^\\x00-\\x7f]', '', regex=True)\n",
    "df2[\"Customer name\"] = df2[\"Customer name\"].str.strip()"
   ],
   "metadata": {
    "collapsed": false
   }
  },
  {
   "cell_type": "code",
   "execution_count": 8,
   "outputs": [
    {
     "data": {
      "text/plain": "array(['A A Pools', 'AG BUDGET SWIMMING POOLS', 'ALMA TRON LIMITED',\n       'ALL SWIM LTD', 'AQUAFAYRE POOL  LEISURE SVCS', 'AQUA LEISURE LTD',\n       'AQUASWIM SERVICES LIMITED', 'AQUEOUS POOLS', 'AQUASCAPES LTD',\n       'AQUASCAPE SWIMMING POOL LTD', 'THREE COUNTIES POOLS  SPAS LTD',\n       'ASHER SWIMPOOL CENTRE LTD', 'INTO THE BLUE LTD',\n       'AUSTIN POOL SERVICES', 'BAKEWELL POOLS LTD', 'ALAN BETTIN LTD',\n       'F BRICKELL  SONS LTD', 'BUBBLETUBS LTD',\n       'BUCKLAND POOL  BUILDING COMPANY LTD',\n       'FAWRONA LTD TA BUTLER SERVICE', 'CATALINA SPAS LIMITED',\n       'CALLOW TOP HOLIDAY PARK', 'CB POOL SERVICING LTD',\n       'TA CHESHIRE WELLNESS', 'CHISWELL POOLS LTD',\n       'CLEAR WATER REVIVAL LIMITED', 'CLEARWAY POOLS LTD',\n       'C R F SWIMMING POOLS', 'CRYSTAL CLEAR SWIM POOL SERV',\n       'CRYSTAL POOLS SERVICES LIMITED', 'DAVID JOHNS',\n       'K DOWNS SWIMMING POOLS', 'CLOSED 200123 NESTON CRT TA DUDLEY',\n       'EDMUNDSON ELECTRICAL LTD', 'ELM LEISURE LTD',\n       'DAMAR SUPPLIES LIMITED TAS', 'FREEDOM LEISURE',\n       'GILLINGHAM POOLS LTD', 'GIRAFFE ENTERPRISES LTD',\n       'J W GREEN SWIMMING POOLS LTD', 'H2O SERVICING LTD',\n       'M WINTER TA HOME COUNTIES', 'HTP INC LIMITED',\n       'HILDEN SWIMMING POOLS', 'INTERPLAN LEISURE LIMITED',\n       'JACKSONS LEISURE SUPPLIES LTD', 'ROGER JAMES POOLS LTD',\n       'UK POOL STORE LTD', 'JSA LEISURE LIMITED', 'KB POOLS LTD',\n       'KINGFISHER POOLCARE LTD', 'LANGLEY POOL SERVICES LIMITED',\n       'ORIGIN LEISURE LTD', 'LETTS SWIMMING POOLS LIMITED',\n       'HOWSON POOLS LIMITED', 'LEISURE POOLS LTD',\n       'MAJESTIC POOLS LIMITED', 'MANX SAUNAS LTD', 'MCS POOL SERVICES',\n       'M  D TRIMM', 'MERLIN POOLS AND SPAS LLP COLCHESTER', 'KALTECH',\n       'MOSAIC SWIMMING POOLS  SPAS LTD', 'NAUTILUS POOLS LTD',\n       'NEUMAN AQUA LTD', 'CAMPBELL POOLS LTD',\n       'NEWSON SWIMMING POOLS LTD', 'NIRVANA SPA  LEISURE LTD',\n       'PALM TREE POOLS LTD', 'PANACHE POOLS LTD', 'E J PAYNE LTD',\n       'PBS POOLS LTD', 'PEGASUS POOLS LTD', 'PHYSICAL COMPANY LTD',\n       'P J LE MAITRE', 'PLANSCAPES LEISURE LTD', 'POOL MECHANIX LIMITED',\n       'POOLWORX LIMITED', 'POOL SUPPLIES LTD',\n       'POOL FRAMES AND SUPPLIES LTD', 'SWIMMING POOLS MIDLANDS',\n       'POLAR POOLS LTD', 'POOL N SPA SERVICES LTD',\n       'POOLS  GARDENS LIMITED', 'POOLS PLUS LLP',\n       'PREMIER POOL SERVICES', 'P R COOLING SERVICES LIMITED',\n       'PRESTIGE SWIMMING POOLS LTD', 'POOLTEC SERVICES LTD',\n       'TRACIE SKINNER TAS PUREPOOLS', 'ROCKINGHAM SWIMMING POOLS LTD',\n       'RS POOLS LTD', 'SEALION SWIMMING POOLS AND SPAS LTD',\n       'TA THE POOL LADY', 'SMALLBONE POOLS',\n       'SPA DE LA MARE LTD DORSET ACC', 'SPAPOOL', 'SPLASH  RELAX',\n       'SPRUCE SERVICES LIMITED', 'SWIMMING POOL SOLUTIONS LTD',\n       'MR R MADGWICK TA SUNSHINE POOLS', 'SWIMFIX LTD',\n       'CHRIS THAYRE SWIMMING POOLS', 'ROB COTTLE', '1066 POOLS LTD',\n       'Topline Electronics Ltd', 'POOLMAN LEISURE GROUP LIMITED',\n       'UNIPOOLS LTD', 'THE WATERSPLASH CLUB',\n       'WEARSIDE CIVIL ENGINEERING LTD', 'WENSUM POOLS LTD',\n       'WEST COUNTRY LEISURE POOL DEVON', 'WOKINGHAM POOLS AND SPAS LTD',\n       'XL POOLS LTD', 'TANBY LEISURE PRODUCTS LTD', 'AQS GROUP LTD',\n       'DWS LEISURE', 'MERMAID SYSTEMS LTD', 'IAN STOKES TA AQUA RIO',\n       'TA WELSH HOT TUBS', 'ON-SITE POOL LININGS LTD',\n       'RG POOLS AND LEISURE LTD', 'JML POOLS LTD',\n       'LOVE2SWIM HAMPSHIRE LTD', 'BLUEPOOLS LTD',\n       'A  D SWIMMING POOLS LTD', 'TONY KNIGHT',\n       'AQUATIC IMPACT LTD AQUATICS', 'CD AQUATICS  AQUATICS',\n       'ATOLL CONSTRUCTION LTD', 'APULIA POOLS', 'GARETH JAMES POOLS',\n       'SERENITY POOLS', 'SHIRLEY AQUATICS 1984 LTD AQUATICS',\n       'OASIS SWIMMING POOLS KENT LTD', 'AMAZON EU SARL AQUATICS',\n       'HEAT PUMPS 4 POOLS LTD', 'RIVIERA HOT TUBS LTD',\n       'JP SWIMMING POOL SOLUTIONS LTD', 'AQUASTYLE POOLS LTD',\n       'THIRD MILLENNIUM ENERGY LTD',\n       'COMPLETE SWIMMING POOL SERVICES LTD',\n       'CRYSTAL CLEAR POOLS LIMITED', 'POOL SOLUTIONS SCOTLAND',\n       'YOLO INVESTMENT COMPANY LTD', 'POOLS SPAS AND LANDSCAPES LTD',\n       'PACIFIC POOLS LTD TA POOL TRADE COUNT',\n       'THE COTSWOLD POOL COMPANY LTD', 'AQUARIUS POOL SERVICES LTD',\n       'SURESPA LTD', 'STEVE MAYNARD PROPERTY SERVICES',\n       'OXFORD POOLS AND HOT TUBS LIMITED', 'JB ELITE SERVICES LTD',\n       'MEB TOTAL LTD', 'SEYMOUR POOLS LTD', 'ELITE SPAS  LEISURE SW LTD',\n       'SAFFRON SWIMMING POOLS LTD', 'TOTAL LEISURE ENGINEERING LTD',\n       'W COOMBES  SONS CONTRACTORS LTD', 'LIFESTYLE BUILDING SERVICES',\n       'AQUAPOOLCO', 'NORTH EAST SWIMMING POOLS LIMITED', 'SSL POOLS LTD',\n       'OCEANOS POOLS LTD', 'AZURE POOL SERVICES LTD', 'BTA LEISURE',\n       'POOL ENGINEERING UK', 'POOLWORKS LTD',\n       'TA SOLENT POOLS AND HOT TUBS', 'GKING TA THERMAL LEISURE',\n       'HIGHTECH WATER SERVICES LTD', 'OLYMPIC CONSTRUCTION NORFOLK LTD',\n       'SMART POOLS LTD', 'EXETER POOLS LTD', 'BOILERS 4 ESSEX LTD',\n       'TA MIDLAND POOL SERVICES', 'UNICORN POOLS AND HOT TUBS LTD',\n       'CORNISH HOT TUBS LIMITED', 'PERFECT POOLS', 'PENINSULA POOLS LTD',\n       'ABS POOLS LIMITED', 'APM POOL CARE LTD', 'WATER ARTISANS LTD',\n       'W D S LIMITED', 'YORKSHIRE HOT TUBS LTD', 'CANADIAN SPA IRELAND',\n       'RICHMOND PARK POOLS', 'SPAZIO DESIGN LIMITED', 'BOMBINA SERVICES',\n       'GALA SWIMMING POOLS LTD', 'TA RELAX ESSEX',\n       'STOW AGRICULTURAL LTD', 'ROCKHOPPER POOLS LTD',\n       'TA MALPELO POOLS', 'SPAFLO LTD', 'TA WOOZELBEARS MELKSHAM',\n       'TA THE POOL CLEANERS', 'TA ATPOOL SERVICES', 'S J POOL SERVICES',\n       'AQUATEC POOLS', 'POOL ASSIST LIMITED', 'PHOENIX FILTRATION LTD',\n       'TA HOT TUB HUB', 'SPRAYED CONCRETE SOLUTIONS LTD',\n       'TA OXFORD POOL STORE', 'HYDROCARE LEISURE LTD',\n       'FAIRLOCKS POOL PRODUCTS LTD', 'MARSHALL SWIMMING POOLS LTD',\n       'FRANKLYNAIR LTD', 'GO AQUA UK LTD', 'A2Z POOLS',\n       'TA AGUA CALIENTE POOL DESIGN', 'LEW KEAY  SONS',\n       'THE POOL PEOPLE', 'BTU SUPPLIES LTD',\n       'KENT AND SUSSEX POOL CONSTRUCTION LTD', 'TOTAL POOL CARE LTD',\n       'SOUTH WEST AIR TECH', 'ENERGISE LEISURE LTD',\n       'THE NATURAL POOL COMPANY LTD', 'AQUA PROJECTS',\n       'CENTURION CORPORATE SOLUTIONS LTD',\n       'BARRYS SWIMMING POOL  SPA SOLUTIONS', 'SURREY POOLS AND WATER',\n       'POOL COVER SERVICING', 'HENDY CURZON GARDENS LTD',\n       'HEATHCREST HEATING SERVICES LTD', 'AQUA PLATINUM SERVICING LTD',\n       'ELEMENTS OF NATURE LTD', 'POOL AND SPA TECH',\n       'LEISURESAFE SOLUTIONS', 'SHAPE FABRICATION LTD',\n       'CREATIVE POOLS  LEISURE LTD', 'CIRENCESTER POOLS',\n       'LUXOR POOLS LTD', 'JENESIS SERVICES',\n       'SPECIALIST LINING SERVICES LIMITED', 'ASTER LEE LTD',\n       'SALOP POOL SERVICES', 'ORBRO POOLS LIMITED',\n       'TANK TIDY LTDAQUATICS', 'CLARITY POOLCARE',\n       'CHEMICAL BOX LIMITED', 'ALL FOR ONE CONSULTANCY LTD',\n       'TWINSCAPE GROUP LTD', 'THE COMPLETE POOL COMPANY',\n       'TA CHESHIRE POOL SUPPLIES', 'ECOBLUE POOL AND SPA LTD',\n       'AMANDI HOLDINGS LIMITED', 'SIMPLEX SWIMMING POOLS LTD',\n       'TA KIEREN BEAN POOLS  SPA', 'MARK THE POOL GUY',\n       'HOT TUB HIRE LIMITED', 'G3 POOL AND SPAS', 'S  S POOLS',\n       'BUILTH WELLS VETERINARY PRACTICE LTD', 'FACILITY SOLUTIONS',\n       'POOLGENIX LTD', 'G  O ENGINEERS LTD', 'SG POOL SERVICES',\n       'AUGUST POOLS LTD', 'UK POOLS AND SPAS',\n       'TA LOXONE FLAGSHIP PARTNER AUTOMATE',\n       'OCEAN ELECTRICALSWIMMING POOL SOL LTD', 'JOHN PYKE',\n       'SUNSCAPE INNOVATIONS LTD', 'TOM FOSTER', 'OTIUM SWIMMING POOLS',\n       'P  P LEISURE POOLS LTD', 'POOL ENGINEERING LTD',\n       'BROUGHTON HOLDINGS', 'DOODLE BUILD CONTAINERS LTD',\n       'TOMMICKS LTD'], dtype=object)"
     },
     "execution_count": 8,
     "metadata": {},
     "output_type": "execute_result"
    }
   ],
   "source": [
    "df2[\"Customer name\"].unique()"
   ],
   "metadata": {
    "collapsed": false
   }
  },
  {
   "cell_type": "code",
   "execution_count": 7,
   "outputs": [],
   "source": [
    "df2 = df2[[\"Booking date (order)\", \"Global CoFX Amount (net)\", \"Customer name\"]]"
   ],
   "metadata": {
    "collapsed": false
   }
  },
  {
   "cell_type": "code",
   "execution_count": 8,
   "outputs": [],
   "source": [
    "df2 = df2.rename(columns={\"Booking date (order)\": \"Purchase Date\", 'Customer Name': 'Customer name', 'Global CoFX Amount (net)': 'Global Amount'})"
   ],
   "metadata": {
    "collapsed": false
   }
  },
  {
   "cell_type": "code",
   "execution_count": 9,
   "outputs": [
    {
     "data": {
      "text/plain": "            Purchase Date Global Amount                Customer name\n0     2022-05-06 00:00:00        935,51                    A A Pools\n1     2022-05-19 00:00:00        221,79                    A A Pools\n2     2022-05-30 00:00:00        134,32                    A A Pools\n3     2022-09-07 00:00:00        247,94                    A A Pools\n4     2022-05-29 00:00:00         14,48                    A A Pools\n...                   ...           ...                          ...\n3880  2022-11-08 00:00:00         14,48  DOODLE BUILD CONTAINERS LTD\n3881  2022-11-07 00:00:00        403,80                 TOMMICKS LTD\n3882  2022-11-22 00:00:00         57,81                 TOMMICKS LTD\n3883  2022-12-12 00:00:00         27,27                 TOMMICKS LTD\n3884  2022-12-12 00:00:00         14,48                 TOMMICKS LTD\n\n[3885 rows x 3 columns]",
      "text/html": "<div>\n<style scoped>\n    .dataframe tbody tr th:only-of-type {\n        vertical-align: middle;\n    }\n\n    .dataframe tbody tr th {\n        vertical-align: top;\n    }\n\n    .dataframe thead th {\n        text-align: right;\n    }\n</style>\n<table border=\"1\" class=\"dataframe\">\n  <thead>\n    <tr style=\"text-align: right;\">\n      <th></th>\n      <th>Purchase Date</th>\n      <th>Global Amount</th>\n      <th>Customer name</th>\n    </tr>\n  </thead>\n  <tbody>\n    <tr>\n      <th>0</th>\n      <td>2022-05-06 00:00:00</td>\n      <td>935,51</td>\n      <td>A A Pools</td>\n    </tr>\n    <tr>\n      <th>1</th>\n      <td>2022-05-19 00:00:00</td>\n      <td>221,79</td>\n      <td>A A Pools</td>\n    </tr>\n    <tr>\n      <th>2</th>\n      <td>2022-05-30 00:00:00</td>\n      <td>134,32</td>\n      <td>A A Pools</td>\n    </tr>\n    <tr>\n      <th>3</th>\n      <td>2022-09-07 00:00:00</td>\n      <td>247,94</td>\n      <td>A A Pools</td>\n    </tr>\n    <tr>\n      <th>4</th>\n      <td>2022-05-29 00:00:00</td>\n      <td>14,48</td>\n      <td>A A Pools</td>\n    </tr>\n    <tr>\n      <th>...</th>\n      <td>...</td>\n      <td>...</td>\n      <td>...</td>\n    </tr>\n    <tr>\n      <th>3880</th>\n      <td>2022-11-08 00:00:00</td>\n      <td>14,48</td>\n      <td>DOODLE BUILD CONTAINERS LTD</td>\n    </tr>\n    <tr>\n      <th>3881</th>\n      <td>2022-11-07 00:00:00</td>\n      <td>403,80</td>\n      <td>TOMMICKS LTD</td>\n    </tr>\n    <tr>\n      <th>3882</th>\n      <td>2022-11-22 00:00:00</td>\n      <td>57,81</td>\n      <td>TOMMICKS LTD</td>\n    </tr>\n    <tr>\n      <th>3883</th>\n      <td>2022-12-12 00:00:00</td>\n      <td>27,27</td>\n      <td>TOMMICKS LTD</td>\n    </tr>\n    <tr>\n      <th>3884</th>\n      <td>2022-12-12 00:00:00</td>\n      <td>14,48</td>\n      <td>TOMMICKS LTD</td>\n    </tr>\n  </tbody>\n</table>\n<p>3885 rows × 3 columns</p>\n</div>"
     },
     "execution_count": 9,
     "metadata": {},
     "output_type": "execute_result"
    }
   ],
   "source": [
    "df2"
   ],
   "metadata": {
    "collapsed": false
   }
  },
  {
   "cell_type": "code",
   "execution_count": 10,
   "outputs": [
    {
     "data": {
      "text/plain": "Purchase Date    object\nGlobal Amount    object\nCustomer name    object\ndtype: object"
     },
     "execution_count": 10,
     "metadata": {},
     "output_type": "execute_result"
    }
   ],
   "source": [
    "df2.dtypes"
   ],
   "metadata": {
    "collapsed": false
   }
  },
  {
   "cell_type": "code",
   "execution_count": 11,
   "outputs": [],
   "source": [
    "df2[\"Global Amount\"] = df2[\"Global Amount\"].str.replace(\",\", \".\")"
   ],
   "metadata": {
    "collapsed": false
   }
  },
  {
   "cell_type": "code",
   "execution_count": 12,
   "outputs": [],
   "source": [
    "df2[\"Purchase Date\"] = pd.to_datetime(df2[\"Purchase Date\"])\n",
    "df2[\"Global Amount\"] = df2[\"Global Amount\"].astype(float)"
   ],
   "metadata": {
    "collapsed": false
   }
  },
  {
   "cell_type": "code",
   "execution_count": 13,
   "outputs": [],
   "source": [
    "snapshot_date = df2['Purchase Date'].max() + timedelta(days=1)"
   ],
   "metadata": {
    "collapsed": false
   }
  },
  {
   "cell_type": "code",
   "execution_count": 14,
   "outputs": [],
   "source": [
    "df5 = df2.groupby('Customer name').agg({'Global Amount': ['sum','count'], 'Purchase Date': lambda x: (snapshot_date - x.max()).days}).reset_index()"
   ],
   "metadata": {
    "collapsed": false
   }
  },
  {
   "cell_type": "code",
   "execution_count": 15,
   "outputs": [
    {
     "data": {
      "text/plain": "                       Customer name Global Amount       Purchase Date\n                                               sum count      <lambda>\n0                     1066 POOLS LTD       1161.28     5            80\n1            A  D SWIMMING POOLS LTD      23045.54    20            24\n2                          A A Pools       1554.04     5           107\n3                          A2Z POOLS        389.68     2            73\n4                  ABS POOLS LIMITED       1814.88     1           178\n..                               ...           ...   ...           ...\n268  WEST COUNTRY LEISURE POOL DEVON      41916.04    36            29\n269     WOKINGHAM POOLS AND SPAS LTD       1103.77     2            94\n270                     XL POOLS LTD        843.80     5            22\n271      YOLO INVESTMENT COMPANY LTD        791.64     4            50\n272           YORKSHIRE HOT TUBS LTD         31.71     1           287\n\n[273 rows x 4 columns]",
      "text/html": "<div>\n<style scoped>\n    .dataframe tbody tr th:only-of-type {\n        vertical-align: middle;\n    }\n\n    .dataframe tbody tr th {\n        vertical-align: top;\n    }\n\n    .dataframe thead tr th {\n        text-align: left;\n    }\n</style>\n<table border=\"1\" class=\"dataframe\">\n  <thead>\n    <tr>\n      <th></th>\n      <th>Customer name</th>\n      <th colspan=\"2\" halign=\"left\">Global Amount</th>\n      <th>Purchase Date</th>\n    </tr>\n    <tr>\n      <th></th>\n      <th></th>\n      <th>sum</th>\n      <th>count</th>\n      <th>&lt;lambda&gt;</th>\n    </tr>\n  </thead>\n  <tbody>\n    <tr>\n      <th>0</th>\n      <td>1066 POOLS LTD</td>\n      <td>1161.28</td>\n      <td>5</td>\n      <td>80</td>\n    </tr>\n    <tr>\n      <th>1</th>\n      <td>A  D SWIMMING POOLS LTD</td>\n      <td>23045.54</td>\n      <td>20</td>\n      <td>24</td>\n    </tr>\n    <tr>\n      <th>2</th>\n      <td>A A Pools</td>\n      <td>1554.04</td>\n      <td>5</td>\n      <td>107</td>\n    </tr>\n    <tr>\n      <th>3</th>\n      <td>A2Z POOLS</td>\n      <td>389.68</td>\n      <td>2</td>\n      <td>73</td>\n    </tr>\n    <tr>\n      <th>4</th>\n      <td>ABS POOLS LIMITED</td>\n      <td>1814.88</td>\n      <td>1</td>\n      <td>178</td>\n    </tr>\n    <tr>\n      <th>...</th>\n      <td>...</td>\n      <td>...</td>\n      <td>...</td>\n      <td>...</td>\n    </tr>\n    <tr>\n      <th>268</th>\n      <td>WEST COUNTRY LEISURE POOL DEVON</td>\n      <td>41916.04</td>\n      <td>36</td>\n      <td>29</td>\n    </tr>\n    <tr>\n      <th>269</th>\n      <td>WOKINGHAM POOLS AND SPAS LTD</td>\n      <td>1103.77</td>\n      <td>2</td>\n      <td>94</td>\n    </tr>\n    <tr>\n      <th>270</th>\n      <td>XL POOLS LTD</td>\n      <td>843.80</td>\n      <td>5</td>\n      <td>22</td>\n    </tr>\n    <tr>\n      <th>271</th>\n      <td>YOLO INVESTMENT COMPANY LTD</td>\n      <td>791.64</td>\n      <td>4</td>\n      <td>50</td>\n    </tr>\n    <tr>\n      <th>272</th>\n      <td>YORKSHIRE HOT TUBS LTD</td>\n      <td>31.71</td>\n      <td>1</td>\n      <td>287</td>\n    </tr>\n  </tbody>\n</table>\n<p>273 rows × 4 columns</p>\n</div>"
     },
     "execution_count": 15,
     "metadata": {},
     "output_type": "execute_result"
    }
   ],
   "source": [
    "df5"
   ],
   "metadata": {
    "collapsed": false
   }
  },
  {
   "cell_type": "code",
   "execution_count": 16,
   "outputs": [],
   "source": [
    "df6 = df5.rename(columns={\"Global Amount\": \"Total monetary value\", 'count': 'Frequency', 'Purchase Date': 'Recency'})"
   ],
   "metadata": {
    "collapsed": false
   }
  },
  {
   "cell_type": "code",
   "execution_count": 17,
   "outputs": [
    {
     "data": {
      "text/plain": "                       Customer name Total monetary value            Recency\n                                                      sum Frequency <lambda>\n0                     1066 POOLS LTD              1161.28         5       80\n1            A  D SWIMMING POOLS LTD             23045.54        20       24\n2                          A A Pools              1554.04         5      107\n3                          A2Z POOLS               389.68         2       73\n4                  ABS POOLS LIMITED              1814.88         1      178\n..                               ...                  ...       ...      ...\n268  WEST COUNTRY LEISURE POOL DEVON             41916.04        36       29\n269     WOKINGHAM POOLS AND SPAS LTD              1103.77         2       94\n270                     XL POOLS LTD               843.80         5       22\n271      YOLO INVESTMENT COMPANY LTD               791.64         4       50\n272           YORKSHIRE HOT TUBS LTD                31.71         1      287\n\n[273 rows x 4 columns]",
      "text/html": "<div>\n<style scoped>\n    .dataframe tbody tr th:only-of-type {\n        vertical-align: middle;\n    }\n\n    .dataframe tbody tr th {\n        vertical-align: top;\n    }\n\n    .dataframe thead tr th {\n        text-align: left;\n    }\n</style>\n<table border=\"1\" class=\"dataframe\">\n  <thead>\n    <tr>\n      <th></th>\n      <th>Customer name</th>\n      <th colspan=\"2\" halign=\"left\">Total monetary value</th>\n      <th>Recency</th>\n    </tr>\n    <tr>\n      <th></th>\n      <th></th>\n      <th>sum</th>\n      <th>Frequency</th>\n      <th>&lt;lambda&gt;</th>\n    </tr>\n  </thead>\n  <tbody>\n    <tr>\n      <th>0</th>\n      <td>1066 POOLS LTD</td>\n      <td>1161.28</td>\n      <td>5</td>\n      <td>80</td>\n    </tr>\n    <tr>\n      <th>1</th>\n      <td>A  D SWIMMING POOLS LTD</td>\n      <td>23045.54</td>\n      <td>20</td>\n      <td>24</td>\n    </tr>\n    <tr>\n      <th>2</th>\n      <td>A A Pools</td>\n      <td>1554.04</td>\n      <td>5</td>\n      <td>107</td>\n    </tr>\n    <tr>\n      <th>3</th>\n      <td>A2Z POOLS</td>\n      <td>389.68</td>\n      <td>2</td>\n      <td>73</td>\n    </tr>\n    <tr>\n      <th>4</th>\n      <td>ABS POOLS LIMITED</td>\n      <td>1814.88</td>\n      <td>1</td>\n      <td>178</td>\n    </tr>\n    <tr>\n      <th>...</th>\n      <td>...</td>\n      <td>...</td>\n      <td>...</td>\n      <td>...</td>\n    </tr>\n    <tr>\n      <th>268</th>\n      <td>WEST COUNTRY LEISURE POOL DEVON</td>\n      <td>41916.04</td>\n      <td>36</td>\n      <td>29</td>\n    </tr>\n    <tr>\n      <th>269</th>\n      <td>WOKINGHAM POOLS AND SPAS LTD</td>\n      <td>1103.77</td>\n      <td>2</td>\n      <td>94</td>\n    </tr>\n    <tr>\n      <th>270</th>\n      <td>XL POOLS LTD</td>\n      <td>843.80</td>\n      <td>5</td>\n      <td>22</td>\n    </tr>\n    <tr>\n      <th>271</th>\n      <td>YOLO INVESTMENT COMPANY LTD</td>\n      <td>791.64</td>\n      <td>4</td>\n      <td>50</td>\n    </tr>\n    <tr>\n      <th>272</th>\n      <td>YORKSHIRE HOT TUBS LTD</td>\n      <td>31.71</td>\n      <td>1</td>\n      <td>287</td>\n    </tr>\n  </tbody>\n</table>\n<p>273 rows × 4 columns</p>\n</div>"
     },
     "execution_count": 17,
     "metadata": {},
     "output_type": "execute_result"
    }
   ],
   "source": [
    "df6"
   ],
   "metadata": {
    "collapsed": false
   }
  },
  {
   "cell_type": "code",
   "execution_count": 18,
   "outputs": [],
   "source": [
    "df6.to_excel(\"frm_ctk_2022.xlsx\")"
   ],
   "metadata": {
    "collapsed": false
   }
  }
 ],
 "metadata": {
  "kernelspec": {
   "display_name": "Python 3",
   "language": "python",
   "name": "python3"
  },
  "language_info": {
   "codemirror_mode": {
    "name": "ipython",
    "version": 2
   },
   "file_extension": ".py",
   "mimetype": "text/x-python",
   "name": "python",
   "nbconvert_exporter": "python",
   "pygments_lexer": "ipython2",
   "version": "2.7.6"
  }
 },
 "nbformat": 4,
 "nbformat_minor": 0
}
