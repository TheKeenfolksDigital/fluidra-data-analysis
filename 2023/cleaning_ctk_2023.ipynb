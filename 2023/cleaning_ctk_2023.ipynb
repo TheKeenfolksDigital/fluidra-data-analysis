{
 "cells": [
  {
   "cell_type": "code",
   "execution_count": 1,
   "metadata": {},
   "outputs": [],
   "source": [
    "import pandas as pd\n",
    "from datetime import timedelta"
   ]
  },
  {
   "cell_type": "code",
   "execution_count": 2,
   "metadata": {},
   "outputs": [],
   "source": [
    "# Config:\n",
    "month = 'Jun23'\n",
    "file_name = 'Uk_Jan_Jun_23'"
   ]
  },
  {
   "cell_type": "code",
   "execution_count": 3,
   "metadata": {},
   "outputs": [],
   "source": [
    "# Read CSV with Decimals as comma:\n",
    "df = pd.read_csv(f\"./Inputs/{month}/{file_name}.csv\", decimal=',')"
   ]
  },
  {
   "cell_type": "code",
   "execution_count": 4,
   "metadata": {},
   "outputs": [
    {
     "data": {
      "text/html": [
       "<div>\n",
       "<style scoped>\n",
       "    .dataframe tbody tr th:only-of-type {\n",
       "        vertical-align: middle;\n",
       "    }\n",
       "\n",
       "    .dataframe tbody tr th {\n",
       "        vertical-align: top;\n",
       "    }\n",
       "\n",
       "    .dataframe thead th {\n",
       "        text-align: right;\n",
       "    }\n",
       "</style>\n",
       "<table border=\"1\" class=\"dataframe\">\n",
       "  <thead>\n",
       "    <tr style=\"text-align: right;\">\n",
       "      <th></th>\n",
       "      <th>Company (code+name)</th>\n",
       "      <th>Year</th>\n",
       "      <th>Delivery note date</th>\n",
       "      <th>Customer code</th>\n",
       "      <th>Customer name</th>\n",
       "      <th>Segment code (customer)</th>\n",
       "      <th>Segment name (customer)</th>\n",
       "      <th>Global CoFX Amount (net)</th>\n",
       "      <th>Sales order number</th>\n",
       "      <th>Order origin</th>\n",
       "    </tr>\n",
       "  </thead>\n",
       "  <tbody>\n",
       "    <tr>\n",
       "      <th>0</th>\n",
       "      <td>141 - CERTIKIN INTERNATIONAL LIMITED</td>\n",
       "      <td>2023</td>\n",
       "      <td>03/01/23 0:00</td>\n",
       "      <td>306</td>\n",
       "      <td>BUCKLAND POOL &amp; BUILDING COMPANY LTD</td>\n",
       "      <td>15.0</td>\n",
       "      <td>POOL SPECIALIST-Instal/Builder</td>\n",
       "      <td>849.73</td>\n",
       "      <td>580963</td>\n",
       "      <td>25</td>\n",
       "    </tr>\n",
       "    <tr>\n",
       "      <th>1</th>\n",
       "      <td>141 - CERTIKIN INTERNATIONAL LIMITED</td>\n",
       "      <td>2023</td>\n",
       "      <td>03/01/23 0:00</td>\n",
       "      <td>615</td>\n",
       "      <td>FREEDOM LEISURE  !</td>\n",
       "      <td>15.0</td>\n",
       "      <td>POOL SPECIALIST-Instal/Builder</td>\n",
       "      <td>75.02</td>\n",
       "      <td>580883</td>\n",
       "      <td>25</td>\n",
       "    </tr>\n",
       "    <tr>\n",
       "      <th>2</th>\n",
       "      <td>141 - CERTIKIN INTERNATIONAL LIMITED</td>\n",
       "      <td>2023</td>\n",
       "      <td>03/01/23 0:00</td>\n",
       "      <td>615</td>\n",
       "      <td>FREEDOM LEISURE  !</td>\n",
       "      <td>15.0</td>\n",
       "      <td>POOL SPECIALIST-Instal/Builder</td>\n",
       "      <td>14.6</td>\n",
       "      <td>HAZARDOUS</td>\n",
       "      <td>25</td>\n",
       "    </tr>\n",
       "  </tbody>\n",
       "</table>\n",
       "</div>"
      ],
      "text/plain": [
       "                    Company (code+name)  Year Delivery note date  \\\n",
       "0  141 - CERTIKIN INTERNATIONAL LIMITED  2023      03/01/23 0:00   \n",
       "1  141 - CERTIKIN INTERNATIONAL LIMITED  2023      03/01/23 0:00   \n",
       "2  141 - CERTIKIN INTERNATIONAL LIMITED  2023      03/01/23 0:00   \n",
       "\n",
       "   Customer code                         Customer name  \\\n",
       "0            306  BUCKLAND POOL & BUILDING COMPANY LTD   \n",
       "1            615                    FREEDOM LEISURE  !   \n",
       "2            615                    FREEDOM LEISURE  !   \n",
       "\n",
       "   Segment code (customer)         Segment name (customer)  \\\n",
       "0                     15.0  POOL SPECIALIST-Instal/Builder   \n",
       "1                     15.0  POOL SPECIALIST-Instal/Builder   \n",
       "2                     15.0  POOL SPECIALIST-Instal/Builder   \n",
       "\n",
       "  Global CoFX Amount (net) Sales order number  Order origin  \n",
       "0                   849.73             580963            25  \n",
       "1                    75.02             580883            25  \n",
       "2                     14.6          HAZARDOUS            25  "
      ]
     },
     "execution_count": 4,
     "metadata": {},
     "output_type": "execute_result"
    }
   ],
   "source": [
    "df.head(3)"
   ]
  },
  {
   "cell_type": "code",
   "execution_count": 5,
   "metadata": {},
   "outputs": [],
   "source": [
    "# Renaming Columns:\n",
    "df = df.rename(columns={'Delivery note date': 'Purchase Date',\n",
    "                        'Customer Name': 'Customer name', \n",
    "                        'Global CoFX Amount (net)': 'Global Amount'})"
   ]
  },
  {
   "cell_type": "code",
   "execution_count": 6,
   "metadata": {},
   "outputs": [
    {
     "data": {
      "text/plain": [
       "array(['BUCKLAND POOL & BUILDING COMPANY LTD', 'FREEDOM LEISURE  !',\n",
       "       'UK POOL STORE LTD', 'LEISURE POOLS LTD', 'POOL SUPPLIES LTD',\n",
       "       'HEAT PUMPS 4 POOLS LTD', 'PACIFIC POOLS LTD T/A POOL TRADE COUNT',\n",
       "       'JB ELITE SERVICES LTD', 'AZURE POOL SERVICES LTD',\n",
       "       'PENINSULA POOLS LTD', 'ASHER SWIMPOOL CENTRE LTD',\n",
       "       'PBS POOLS LTD', 'RS POOLS LTD',\n",
       "       'OXFORD POOLS AND HOT TUBS LIMITED', 'SAFFRON SWIMMING POOLS LTD',\n",
       "       'CORNISH HOT TUBS LIMITED', 'W D S LIMITED!', 'B.T.U SUPPLIES LTD',\n",
       "       'SPRUCE SERVICES LIMITED', 'AQUA PLATINUM SERVICING LTD',\n",
       "       'LETTS SWIMMING POOLS LIMITED', 'POOLWORX LIMITED',\n",
       "       'SWIMMING POOLS (MIDLANDS)', 'TRACIE SKINNER T/AS PUREPOOLS',\n",
       "       'WENSUM POOLS LTD', 'JML POOLS LTD', 'OCEANOS POOLS LTD !',\n",
       "       'POOL COVER SERVICING!', 'HTP INC LIMITED', 'KB POOLS LTD',\n",
       "       'LANGLEY POOL SERVICES LIMITED',\n",
       "       'MERLIN POOLS AND SPAS LLP (COLCHESTER)',\n",
       "       'TOPLINE ELECTRONICS LTD', 'UNIPOOLS LTD', 'RIVIERA HOT TUBS LTD',\n",
       "       'SPAFLO LTD', 'SALOP POOL SERVICES',\n",
       "       'BUILTH WELLS VETERINARY PRACTICE LTD!',\n",
       "       'AQUASCAPE SWIMMING POOL LTD', 'KINGFISHER POOLCARE LTD',\n",
       "       'NIRVANA SPA & LEISURE LTD', 'POOLWORKS LTD',\n",
       "       'HYDROCARE LEISURE LTD', 'ALAN BETTIN LTD', 'ELM LEISURE LTD',\n",
       "       \"POOL 'N' SPA SERVICES LTD\", 'P R COOLING SERVICES LIMITED',\n",
       "       'A & D SWIMMING POOLS LTD', 'STEVE MAYNARD PROPERTY SERVICES !',\n",
       "       'FOXIN POOL AND SPA', 'CIRENCESTER POOLS!', 'CAMPBELL POOLS LTD',\n",
       "       'PRESTIGE SWIMMING POOLS LTD', 'THE COTSWOLD POOL COMPANY LTD',\n",
       "       'ROCKHOPPER POOLS LTD', 'FAIRLOCKS POOL PRODUCTS LTD',\n",
       "       'MAJESTIC POOLS LIMITED', 'PEGASUS POOLS LTD',\n",
       "       'PLANSCAPES LEISURE LTD', 'POOLS & GARDENS LIMITED', 'DWS LEISURE',\n",
       "       'T/A WOOZELBEARS MELKSHAM !',\n",
       "       'MERLIN LEISURE POOLS LTD (LEICESTER)', 'INTO THE BLUE LTD',\n",
       "       'P J LE MAITRE !', 'AQS GROUP LTD', 'ROD HUDSON POOLS LTD',\n",
       "       'T/A KIEREN BEAN POOLS & SPA!', 'MOSAIC SWIMMING POOLS & SPAS LTD',\n",
       "       'POOLS PLUS LLP', 'M WINTER T/A HOME COUNTIES',\n",
       "       'HOWSON POOLS LIMITED', 'GARETH JAMES POOLS', 'SSL POOLS LTD',\n",
       "       'POOLCOURT ENGINEERING LTD', 'ELITE SPAS & LEISURE SW LTD',\n",
       "       'FAWRONA LTD T/A BUTLER SERVICE', 'DALESAUNA LTD',\n",
       "       'ORBRO POOLS LIMITED', 'THREE COUNTIES POOLS & SPAS LTD',\n",
       "       'GILLINGHAM POOLS LTD', 'WEST COUNTRY LEISURE POOL (DEVON)',\n",
       "       'COMPLETE SWIMMING POOL SERVICES LTD', 'POOL SOLUTIONS (SCOTLAND)',\n",
       "       'SURREY POOLS AND WATER!', 'CLEARWAY POOLS LTD',\n",
       "       'THE WATERSPLASH CLUB', 'C R F SWIMMING POOLS',\n",
       "       'SWIMMING POOL SOLUTIONS LTD', 'AQUASTYLE POOLS LTD',\n",
       "       'CRYSTAL CLEAR POOLS LIMITED', 'XL POOLS LTD',\n",
       "       'HIGHTECH WATER SERVICES LTD', 'OTIUM SWIMMING POOLS',\n",
       "       'MR R MADGWICK T/A SUNSHINE POOLS', 'SWIMFIX LTD',\n",
       "       'TANBY LEISURE PRODUCTS LTD', 'T/A MALPELO POOLS',\n",
       "       'SPRAYED CONCRETE SOLUTIONS LTD', 'AG BUDGET SWIMMING POOLS',\n",
       "       'ALMA TRON LIMITED', 'HEATHCREST HEATING SERVICES LTD',\n",
       "       'NORTH EAST SWIMMING POOLS LIMITED !', 'BTA LEISURE !',\n",
       "       'BAKEWELL POOLS LTD', 'CATALINA SPAS LIMITED', 'LEW KEAY & SONS',\n",
       "       'OASIS SWIMMING POOLS (KENT) LTD', 'GALA SWIMMING POOLS LTD',\n",
       "       'ARCUS PRODUCTS LTD !', 'SAPPHIRE WATER SYSTEMS!',\n",
       "       'THE NATURAL POOL COMPANY LTD!', 'AMALFI WELLNESS LTD !',\n",
       "       'K DOWNS SWIMMING POOLS', 'GIRAFFE ENTERPRISES LTD',\n",
       "       'POOL MECHANIX LIMITED', 'T/A SOLENT POOLS AND HOT TUBS',\n",
       "       'OCEAN ELECTRICAL/SWIMMING POOL SOL LTD!', 'AQUATEC POOLS',\n",
       "       'H & H POOLS AND LEISURE FACILITIES LTD',\n",
       "       'POOL FILTRATION SURREY LTD', 'HILDEN SWIMMING POOLS !',\n",
       "       'JACKSONS LEISURE SUPPLIES LTD', '1066 POOLS LTD',\n",
       "       'PETER MCNALLY T/A P.M.C CONSULTING', 'AQUA SERVICES (OXFORD) LTD',\n",
       "       'F BRICKELL & SONS LTD', 'JSA LEISURE LIMITED',\n",
       "       'CALYPSO SOUTH LTD', 'INTERPLAN LEISURE LIMITED',\n",
       "       'UNICORN POOLS AND HOT TUBS LTD', 'POOL ENGINEERING LTD!',\n",
       "       'SPAZIO DESIGN LIMITED!', 'CLEAR WATER REVIVAL LIMITED',\n",
       "       'IAN LEWIS DESIGN', 'TOTAL LEISURE ENGINEERING LTD',\n",
       "       'POOLPRO SERVICES!', 'AGB SERVICES ANGLIA LTD', 'AQUEOUS POOLS',\n",
       "       'PREMIER POOL SERVICES', 'FOUNTAINS DIRECT LTD',\n",
       "       'FOWLER SWIMMING POOLS LTD', 'WOKINGHAM POOLS AND SPAS LTD',\n",
       "       'NEUMAN AQUA LTD', 'MULTIJET LTD  !',\n",
       "       'BAY AIR CONDITIONING & REFRIGERATION LTD',\n",
       "       'ONE POOL & SPA LIMITED !', 'KALTECH',\n",
       "       'LOVE2SWIM HAMPSHIRE LTD  !', 'ATOLL CONSTRUCTION LTD',\n",
       "       'MILLAQUIA LEISURE LTD', 'AQUARIUS POOL SERVICES LTD',\n",
       "       'SMART POOLS LTD', 'SG POOL SERVICES', 'DAVID JOHNS',\n",
       "       'AMANDI HOLDINGS LIMITED!', 'DEVON POOL AND SPA COMPANY LTD',\n",
       "       'CHISWELL POOLS LTD', 'APULIA POOLS', 'SMALLBONE POOLS LIMITED',\n",
       "       'D P LEISURE!', 'SPA CARE UK LTD!', 'POLMENNA POOLS LTD!',\n",
       "       'POLAR POOLS LTD', 'SPAPOOL   !', 'SPLISH SPLASH POOLS LTD!',\n",
       "       'SILEBYSPAS LTD!', 'JOYCE SWIMMING POOLS LTD',\n",
       "       'CALLOW TOP HOLIDAY PARK', 'CHRIS THAYRE SWIMMING POOLS',\n",
       "       'LEISURESAFE SOLUTIONS!', \"TERRY'S POOL SERVICES LTD\",\n",
       "       'MERMAID LEISURE LIMITED', 'P & P LEISURE POOLS LTD',\n",
       "       'BEN THOMPSON!', 'AUGUST POOLS LTD!',\n",
       "       'DOODLE BUILD CONTAINERS LTD',\n",
       "       'TINY RHINO LTD T/A HOT TUBS AT HOME !',\n",
       "       'LIFESTYLE BUILDING SERVICES!', 'POOL ENGINEERING UK',\n",
       "       'HENDY CURZON GARDENS LTD', 'MILLENNIUM POOLS LTD',\n",
       "       'CB POOL SERVICING LTD', 'RR CONSTRUCTION', 'PERFECTION POOLS LTD',\n",
       "       'THE POOL PEOPLE!', 'PENNEY TECHNICAL SERVICES LTD',\n",
       "       'T/A SPS SWIMMING POOLS & SPA', 'T/A OXFORD POOL STORE',\n",
       "       'THERAPAWS LTD!', 'ORCA POOLS LTD!', 'AQUALITY POOL SERVICE',\n",
       "       'T/A THE POOL CLEANERS !', 'S J POOL SERVICES!',\n",
       "       'SUNSCAPE INNOVATIONS LTD!', 'GKING T/A THERMAL LEISURE',\n",
       "       'IAN SMITH ELECTRICAL LIMITED', 'AQUAPOOLCO', 'CRESTA LEISURE LTD',\n",
       "       'ALLPOOLS & SPAS LTD', 'LLYN SPA CARE!',\n",
       "       'RPS COMPANY SERVICES LTD', 'LUXOR POOLS LTD!',\n",
       "       'SIXSMITH BUILD LTD', 'SIGNATURE POOLS & LEISURE LTD',\n",
       "       'TOTAL POOL LTD', 'NAUTILUS POOLS LTD', 'A A POOLS',\n",
       "       'PALM TREE POOLS LTD', 'LIGHTHOUSE POOLS LIMITED',\n",
       "       'ECOBLUE POOL AND SPA LTD!', 'SPS SWIMMING POOL SERVICES LTD',\n",
       "       'EXETER POOLS LTD', 'ROMAN POOLS LIMITED',\n",
       "       'NEWSON SWIMMING POOLS LTD', 'POOL AND SPA TECH',\n",
       "       'MATTHEW BEDDIS !', 'THIRD MILLENNIUM ENERGY LTD', 'TOMMICKS LTD!',\n",
       "       'THE SPA DOCTOR', 'AQUALINE ENGINEERING LIMITED',\n",
       "       'AUTOMATED ENVIRONMENTAL SYSTEMS LTD (CEP',\n",
       "       'ROCKINGHAM SWIMMING POOLS LTD', 'YPDT LEISURE LIMITED !',\n",
       "       'SURREY POOL CARE!', 'ASTER LEE LTD!', 'BOMBINA SERVICES!',\n",
       "       'ROWLEN BOILER SERVICES LTD',\n",
       "       'KENT AND SUSSEX POOL CONSTRUCTION LTD!',\n",
       "       'T/A MIDLAND POOL SERVICES !', 'DAMAR SUPPLIES LIMITED T/AS',\n",
       "       'PANACHE POOLS LTD', 'SURREY SWIMMING POOLS LTD',\n",
       "       'M.E.I PUMP SERVICES LTD', 'A2Z POOLS', 'APM POOL CARE LTD !',\n",
       "       'MCS POOL SERVICES', 'BOILERS 4 ESSEX LTD', 'PHC PARTS',\n",
       "       'T/A A.T.POOL SERVICES!', 'HOWARDS HYDROCARE LTD (COMMERCIAL)',\n",
       "       'VALE POOL SERVICES', 'TANK TIDY LTD(AQUATICS)!',\n",
       "       'CLARITY POOLCARE!', 'HOMEWOOD LEISURE LIMITED',\n",
       "       'PANORAMIC POOLS LTD!', 'CLEARWATER MARINE TECHNOLOGY',\n",
       "       'PLATINUM INSTALLATIONS &MAINTENANCE LTD!', 'UK POOLS AND SPAS!',\n",
       "       'AUSTIN POOL SERVICES &', 'CORNWALL POOLS LIMITED',\n",
       "       'LS MAINTENANCE !', 'CRYSTAL CLEAR SWIM POOL SERV !',\n",
       "       'AQUATIC IMPACT LTD (AQUATICS)', 'JOHN PYKE!',\n",
       "       'OYSTER POOLS & HOT TUBS LTD'], dtype=object)"
      ]
     },
     "execution_count": 6,
     "metadata": {},
     "output_type": "execute_result"
    }
   ],
   "source": [
    "df[\"Customer name\"].unique()"
   ]
  },
  {
   "cell_type": "code",
   "execution_count": 7,
   "metadata": {},
   "outputs": [],
   "source": [
    "df[\"Customer name\"] = df[\"Customer name\"].str.replace(r' - 100', '')\n",
    "df[\"Customer name\"] = df[\"Customer name\"].str.replace(r'(?!-)[^\\w\\s]', '', regex=True)\n",
    "df[\"Customer name\"] = df[\"Customer name\"].str.replace('Ã‘', 'A')\n",
    "df[\"Customer name\"] = df[\"Customer name\"].str.replace('Ã“', 'A')\n",
    "df[\"Customer name\"] = df[\"Customer name\"].str.replace(r'[^\\x00-\\x7f]', '', regex=True)\n",
    "df[\"Customer name\"] = df[\"Customer name\"].str.strip()"
   ]
  },
  {
   "cell_type": "code",
   "execution_count": 8,
   "metadata": {},
   "outputs": [
    {
     "data": {
      "text/html": [
       "<div>\n",
       "<style scoped>\n",
       "    .dataframe tbody tr th:only-of-type {\n",
       "        vertical-align: middle;\n",
       "    }\n",
       "\n",
       "    .dataframe tbody tr th {\n",
       "        vertical-align: top;\n",
       "    }\n",
       "\n",
       "    .dataframe thead th {\n",
       "        text-align: right;\n",
       "    }\n",
       "</style>\n",
       "<table border=\"1\" class=\"dataframe\">\n",
       "  <thead>\n",
       "    <tr style=\"text-align: right;\">\n",
       "      <th></th>\n",
       "      <th>Purchase Date</th>\n",
       "      <th>Customer name</th>\n",
       "      <th>Global Amount</th>\n",
       "    </tr>\n",
       "  </thead>\n",
       "  <tbody>\n",
       "    <tr>\n",
       "      <th>0</th>\n",
       "      <td>03/01/23 0:00</td>\n",
       "      <td>BUCKLAND POOL  BUILDING COMPANY LTD</td>\n",
       "      <td>849.73</td>\n",
       "    </tr>\n",
       "    <tr>\n",
       "      <th>1</th>\n",
       "      <td>03/01/23 0:00</td>\n",
       "      <td>FREEDOM LEISURE</td>\n",
       "      <td>75.02</td>\n",
       "    </tr>\n",
       "    <tr>\n",
       "      <th>2</th>\n",
       "      <td>03/01/23 0:00</td>\n",
       "      <td>FREEDOM LEISURE</td>\n",
       "      <td>14.6</td>\n",
       "    </tr>\n",
       "    <tr>\n",
       "      <th>3</th>\n",
       "      <td>03/01/23 0:00</td>\n",
       "      <td>UK POOL STORE LTD</td>\n",
       "      <td>209.89</td>\n",
       "    </tr>\n",
       "    <tr>\n",
       "      <th>4</th>\n",
       "      <td>03/01/23 0:00</td>\n",
       "      <td>LEISURE POOLS LTD</td>\n",
       "      <td>354.43</td>\n",
       "    </tr>\n",
       "    <tr>\n",
       "      <th>...</th>\n",
       "      <td>...</td>\n",
       "      <td>...</td>\n",
       "      <td>...</td>\n",
       "    </tr>\n",
       "    <tr>\n",
       "      <th>3060</th>\n",
       "      <td>30/06/23 0:00</td>\n",
       "      <td>RPS COMPANY SERVICES LTD</td>\n",
       "      <td>334.94</td>\n",
       "    </tr>\n",
       "    <tr>\n",
       "      <th>3061</th>\n",
       "      <td>30/06/23 0:00</td>\n",
       "      <td>GALA SWIMMING POOLS LTD</td>\n",
       "      <td>2148.4</td>\n",
       "    </tr>\n",
       "    <tr>\n",
       "      <th>3062</th>\n",
       "      <td>30/06/23 0:00</td>\n",
       "      <td>TA THE POOL CLEANERS</td>\n",
       "      <td>54.74</td>\n",
       "    </tr>\n",
       "    <tr>\n",
       "      <th>3063</th>\n",
       "      <td>30/06/23 0:00</td>\n",
       "      <td>HEATHCREST HEATING SERVICES LTD</td>\n",
       "      <td>701.23</td>\n",
       "    </tr>\n",
       "    <tr>\n",
       "      <th>3064</th>\n",
       "      <td>30/06/23 0:00</td>\n",
       "      <td>UK POOLS AND SPAS</td>\n",
       "      <td>123.15</td>\n",
       "    </tr>\n",
       "  </tbody>\n",
       "</table>\n",
       "<p>3065 rows × 3 columns</p>\n",
       "</div>"
      ],
      "text/plain": [
       "      Purchase Date                        Customer name Global Amount\n",
       "0     03/01/23 0:00  BUCKLAND POOL  BUILDING COMPANY LTD        849.73\n",
       "1     03/01/23 0:00                      FREEDOM LEISURE         75.02\n",
       "2     03/01/23 0:00                      FREEDOM LEISURE          14.6\n",
       "3     03/01/23 0:00                    UK POOL STORE LTD        209.89\n",
       "4     03/01/23 0:00                    LEISURE POOLS LTD        354.43\n",
       "...             ...                                  ...           ...\n",
       "3060  30/06/23 0:00             RPS COMPANY SERVICES LTD        334.94\n",
       "3061  30/06/23 0:00              GALA SWIMMING POOLS LTD        2148.4\n",
       "3062  30/06/23 0:00                 TA THE POOL CLEANERS         54.74\n",
       "3063  30/06/23 0:00      HEATHCREST HEATING SERVICES LTD        701.23\n",
       "3064  30/06/23 0:00                    UK POOLS AND SPAS        123.15\n",
       "\n",
       "[3065 rows x 3 columns]"
      ]
     },
     "execution_count": 8,
     "metadata": {},
     "output_type": "execute_result"
    }
   ],
   "source": [
    "df2 = df[['Purchase Date', 'Customer name', 'Global Amount']]\n",
    "df2"
   ]
  },
  {
   "cell_type": "code",
   "execution_count": 9,
   "metadata": {},
   "outputs": [
    {
     "name": "stderr",
     "output_type": "stream",
     "text": [
      "/var/folders/yx/wg0v7ck91t14mxp5lfptvbh00000gn/T/ipykernel_5448/501058408.py:1: SettingWithCopyWarning: \n",
      "A value is trying to be set on a copy of a slice from a DataFrame.\n",
      "Try using .loc[row_indexer,col_indexer] = value instead\n",
      "\n",
      "See the caveats in the documentation: https://pandas.pydata.org/pandas-docs/stable/user_guide/indexing.html#returning-a-view-versus-a-copy\n",
      "  df2[\"Purchase Date\"] = pd.to_datetime(df2[\"Purchase Date\"])\n",
      "/var/folders/yx/wg0v7ck91t14mxp5lfptvbh00000gn/T/ipykernel_5448/501058408.py:2: SettingWithCopyWarning: \n",
      "A value is trying to be set on a copy of a slice from a DataFrame.\n",
      "Try using .loc[row_indexer,col_indexer] = value instead\n",
      "\n",
      "See the caveats in the documentation: https://pandas.pydata.org/pandas-docs/stable/user_guide/indexing.html#returning-a-view-versus-a-copy\n",
      "  df2['Global Amount'] = pd.to_numeric(df2['Global Amount'])\n"
     ]
    }
   ],
   "source": [
    "df2[\"Purchase Date\"] = pd.to_datetime(df2[\"Purchase Date\"])\n",
    "df2['Global Amount'] = pd.to_numeric(df2['Global Amount'])"
   ]
  },
  {
   "cell_type": "code",
   "execution_count": 10,
   "metadata": {},
   "outputs": [
    {
     "data": {
      "text/plain": [
       "Purchase Date    datetime64[ns]\n",
       "Customer name            object\n",
       "Global Amount           float64\n",
       "dtype: object"
      ]
     },
     "execution_count": 10,
     "metadata": {},
     "output_type": "execute_result"
    }
   ],
   "source": [
    "df2.dtypes"
   ]
  },
  {
   "cell_type": "code",
   "execution_count": 11,
   "metadata": {},
   "outputs": [],
   "source": [
    "snapshot_date = df2['Purchase Date'].max() + timedelta(days=1)"
   ]
  },
  {
   "cell_type": "code",
   "execution_count": 12,
   "metadata": {},
   "outputs": [],
   "source": [
    "df3 = df2.groupby('Customer name').agg({'Global Amount': ['sum','count'], 'Purchase Date': lambda x: (snapshot_date - x.max()).days}).reset_index()"
   ]
  },
  {
   "cell_type": "code",
   "execution_count": 13,
   "metadata": {},
   "outputs": [
    {
     "data": {
      "text/html": [
       "<div>\n",
       "<style scoped>\n",
       "    .dataframe tbody tr th:only-of-type {\n",
       "        vertical-align: middle;\n",
       "    }\n",
       "\n",
       "    .dataframe tbody tr th {\n",
       "        vertical-align: top;\n",
       "    }\n",
       "\n",
       "    .dataframe thead tr th {\n",
       "        text-align: left;\n",
       "    }\n",
       "</style>\n",
       "<table border=\"1\" class=\"dataframe\">\n",
       "  <thead>\n",
       "    <tr>\n",
       "      <th></th>\n",
       "      <th>Customer name</th>\n",
       "      <th colspan=\"2\" halign=\"left\">Global Amount</th>\n",
       "      <th>Purchase Date</th>\n",
       "    </tr>\n",
       "    <tr>\n",
       "      <th></th>\n",
       "      <th></th>\n",
       "      <th>sum</th>\n",
       "      <th>count</th>\n",
       "      <th>&lt;lambda&gt;</th>\n",
       "    </tr>\n",
       "  </thead>\n",
       "  <tbody>\n",
       "    <tr>\n",
       "      <th>0</th>\n",
       "      <td>1066 POOLS LTD</td>\n",
       "      <td>1107.05</td>\n",
       "      <td>6</td>\n",
       "      <td>191</td>\n",
       "    </tr>\n",
       "    <tr>\n",
       "      <th>1</th>\n",
       "      <td>A  D SWIMMING POOLS LTD</td>\n",
       "      <td>7780.39</td>\n",
       "      <td>12</td>\n",
       "      <td>36</td>\n",
       "    </tr>\n",
       "    <tr>\n",
       "      <th>2</th>\n",
       "      <td>A A POOLS</td>\n",
       "      <td>-170.54</td>\n",
       "      <td>1</td>\n",
       "      <td>277</td>\n",
       "    </tr>\n",
       "  </tbody>\n",
       "</table>\n",
       "</div>"
      ],
      "text/plain": [
       "             Customer name Global Amount       Purchase Date\n",
       "                                     sum count      <lambda>\n",
       "0           1066 POOLS LTD       1107.05     6           191\n",
       "1  A  D SWIMMING POOLS LTD       7780.39    12            36\n",
       "2                A A POOLS       -170.54     1           277"
      ]
     },
     "execution_count": 13,
     "metadata": {},
     "output_type": "execute_result"
    }
   ],
   "source": [
    "df3.head(3)"
   ]
  },
  {
   "cell_type": "code",
   "execution_count": 14,
   "metadata": {},
   "outputs": [
    {
     "data": {
      "text/plain": [
       "MultiIndex([('Customer name',         ''),\n",
       "            ('Global Amount',      'sum'),\n",
       "            ('Global Amount',    'count'),\n",
       "            ('Purchase Date', '<lambda>')],\n",
       "           )"
      ]
     },
     "execution_count": 14,
     "metadata": {},
     "output_type": "execute_result"
    }
   ],
   "source": [
    "df3.columns"
   ]
  },
  {
   "cell_type": "code",
   "execution_count": 15,
   "metadata": {},
   "outputs": [],
   "source": [
    "df4 = df3.rename(columns={'': 'Customer Name',\n",
    "                          \"sum\": \"Monetary value\",\n",
    "                          'count': 'Frequency',\n",
    "                          '<lambda>': 'Recency'})"
   ]
  },
  {
   "cell_type": "code",
   "execution_count": 16,
   "metadata": {},
   "outputs": [],
   "source": [
    "# Dropping 1st level Index:\n",
    "df4.columns = df4.columns.droplevel(0)"
   ]
  },
  {
   "cell_type": "code",
   "execution_count": 17,
   "metadata": {},
   "outputs": [
    {
     "data": {
      "text/html": [
       "<div>\n",
       "<style scoped>\n",
       "    .dataframe tbody tr th:only-of-type {\n",
       "        vertical-align: middle;\n",
       "    }\n",
       "\n",
       "    .dataframe tbody tr th {\n",
       "        vertical-align: top;\n",
       "    }\n",
       "\n",
       "    .dataframe thead th {\n",
       "        text-align: right;\n",
       "    }\n",
       "</style>\n",
       "<table border=\"1\" class=\"dataframe\">\n",
       "  <thead>\n",
       "    <tr style=\"text-align: right;\">\n",
       "      <th></th>\n",
       "      <th>Customer Name</th>\n",
       "      <th>Monetary value</th>\n",
       "      <th>Frequency</th>\n",
       "      <th>Recency</th>\n",
       "    </tr>\n",
       "  </thead>\n",
       "  <tbody>\n",
       "    <tr>\n",
       "      <th>0</th>\n",
       "      <td>1066 POOLS LTD</td>\n",
       "      <td>1107.05</td>\n",
       "      <td>6</td>\n",
       "      <td>191</td>\n",
       "    </tr>\n",
       "    <tr>\n",
       "      <th>1</th>\n",
       "      <td>A  D SWIMMING POOLS LTD</td>\n",
       "      <td>7780.39</td>\n",
       "      <td>12</td>\n",
       "      <td>36</td>\n",
       "    </tr>\n",
       "    <tr>\n",
       "      <th>2</th>\n",
       "      <td>A A POOLS</td>\n",
       "      <td>-170.54</td>\n",
       "      <td>1</td>\n",
       "      <td>277</td>\n",
       "    </tr>\n",
       "  </tbody>\n",
       "</table>\n",
       "</div>"
      ],
      "text/plain": [
       "             Customer Name  Monetary value  Frequency  Recency\n",
       "0           1066 POOLS LTD         1107.05          6      191\n",
       "1  A  D SWIMMING POOLS LTD         7780.39         12       36\n",
       "2                A A POOLS         -170.54          1      277"
      ]
     },
     "execution_count": 17,
     "metadata": {},
     "output_type": "execute_result"
    }
   ],
   "source": [
    "df4.head(3)"
   ]
  },
  {
   "cell_type": "code",
   "execution_count": 18,
   "metadata": {},
   "outputs": [],
   "source": [
    "df4.to_excel(f\"./{month}/UK/RFM_UK_{month}.xlsx\", index=False)"
   ]
  },
  {
   "cell_type": "code",
   "execution_count": null,
   "metadata": {},
   "outputs": [],
   "source": []
  }
 ],
 "metadata": {
  "kernelspec": {
   "display_name": "Python 3 (ipykernel)",
   "language": "python",
   "name": "python3"
  },
  "language_info": {
   "codemirror_mode": {
    "name": "ipython",
    "version": 3
   },
   "file_extension": ".py",
   "mimetype": "text/x-python",
   "name": "python",
   "nbconvert_exporter": "python",
   "pygments_lexer": "ipython3",
   "version": "3.8.8"
  },
  "varInspector": {
   "cols": {
    "lenName": 16,
    "lenType": 16,
    "lenVar": 40
   },
   "kernels_config": {
    "python": {
     "delete_cmd_postfix": "",
     "delete_cmd_prefix": "del ",
     "library": "var_list.py",
     "varRefreshCmd": "print(var_dic_list())"
    },
    "r": {
     "delete_cmd_postfix": ") ",
     "delete_cmd_prefix": "rm(",
     "library": "var_list.r",
     "varRefreshCmd": "cat(var_dic_list()) "
    }
   },
   "types_to_exclude": [
    "module",
    "function",
    "builtin_function_or_method",
    "instance",
    "_Feature"
   ],
   "window_display": false
  }
 },
 "nbformat": 4,
 "nbformat_minor": 1
}
