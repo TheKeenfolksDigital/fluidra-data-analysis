{
 "cells": [
  {
   "cell_type": "code",
   "execution_count": 1,
   "metadata": {},
   "outputs": [],
   "source": [
    "import pandas as pd\n",
    "from datetime import timedelta"
   ]
  },
  {
   "cell_type": "code",
   "execution_count": 2,
   "metadata": {},
   "outputs": [],
   "source": [
    "# Config:\n",
    "month = 'Jun23'\n",
    "file_name = 'France_Jan_Jun_23'"
   ]
  },
  {
   "cell_type": "code",
   "execution_count": 3,
   "metadata": {},
   "outputs": [],
   "source": [
    "# Read CSV with Decimals as comma:\n",
    "df = pd.read_csv(f\"./Inputs/{month}/{file_name}.csv\", decimal=',')"
   ]
  },
  {
   "cell_type": "code",
   "execution_count": 4,
   "metadata": {},
   "outputs": [
    {
     "data": {
      "text/html": [
       "<div>\n",
       "<style scoped>\n",
       "    .dataframe tbody tr th:only-of-type {\n",
       "        vertical-align: middle;\n",
       "    }\n",
       "\n",
       "    .dataframe tbody tr th {\n",
       "        vertical-align: top;\n",
       "    }\n",
       "\n",
       "    .dataframe thead th {\n",
       "        text-align: right;\n",
       "    }\n",
       "</style>\n",
       "<table border=\"1\" class=\"dataframe\">\n",
       "  <thead>\n",
       "    <tr style=\"text-align: right;\">\n",
       "      <th></th>\n",
       "      <th>Company (code+name)</th>\n",
       "      <th>Year</th>\n",
       "      <th>Delivery note date</th>\n",
       "      <th>Customer code</th>\n",
       "      <th>Customer name</th>\n",
       "      <th>Segment code (customer)</th>\n",
       "      <th>Segment name (customer)</th>\n",
       "      <th>Global CoFX Amount (net)</th>\n",
       "      <th>Sales order number</th>\n",
       "      <th>Order origin</th>\n",
       "    </tr>\n",
       "  </thead>\n",
       "  <tbody>\n",
       "    <tr>\n",
       "      <th>0</th>\n",
       "      <td>050 - FLUIDRA COMMERCIAL FRANCE SAS</td>\n",
       "      <td>2023</td>\n",
       "      <td>2023-01-02 00:00:00</td>\n",
       "      <td>357487</td>\n",
       "      <td>PISCINE EVOLUTION</td>\n",
       "      <td>14</td>\n",
       "      <td>POOL SPECIALIST-Retailers</td>\n",
       "      <td>-12.11</td>\n",
       "      <td>7121783.0</td>\n",
       "      <td>25</td>\n",
       "    </tr>\n",
       "    <tr>\n",
       "      <th>1</th>\n",
       "      <td>050 - FLUIDRA COMMERCIAL FRANCE SAS</td>\n",
       "      <td>2023</td>\n",
       "      <td>2023-01-03 00:00:00</td>\n",
       "      <td>60061</td>\n",
       "      <td>PIACENTI PATRICK</td>\n",
       "      <td>14</td>\n",
       "      <td>POOL SPECIALIST-Retailers</td>\n",
       "      <td>1327.25</td>\n",
       "      <td>2112990.0</td>\n",
       "      <td>25</td>\n",
       "    </tr>\n",
       "    <tr>\n",
       "      <th>2</th>\n",
       "      <td>050 - FLUIDRA COMMERCIAL FRANCE SAS</td>\n",
       "      <td>2023</td>\n",
       "      <td>2023-01-03 00:00:00</td>\n",
       "      <td>170067</td>\n",
       "      <td>UP-LR</td>\n",
       "      <td>14</td>\n",
       "      <td>POOL SPECIALIST-Retailers</td>\n",
       "      <td>39.68</td>\n",
       "      <td>1419377.0</td>\n",
       "      <td>25</td>\n",
       "    </tr>\n",
       "  </tbody>\n",
       "</table>\n",
       "</div>"
      ],
      "text/plain": [
       "                   Company (code+name)  Year   Delivery note date  \\\n",
       "0  050 - FLUIDRA COMMERCIAL FRANCE SAS  2023  2023-01-02 00:00:00   \n",
       "1  050 - FLUIDRA COMMERCIAL FRANCE SAS  2023  2023-01-03 00:00:00   \n",
       "2  050 - FLUIDRA COMMERCIAL FRANCE SAS  2023  2023-01-03 00:00:00   \n",
       "\n",
       "   Customer code      Customer name  Segment code (customer)  \\\n",
       "0         357487  PISCINE EVOLUTION                       14   \n",
       "1          60061   PIACENTI PATRICK                       14   \n",
       "2         170067              UP-LR                       14   \n",
       "\n",
       "     Segment name (customer) Global CoFX Amount (net)  Sales order number  \\\n",
       "0  POOL SPECIALIST-Retailers                   -12.11           7121783.0   \n",
       "1  POOL SPECIALIST-Retailers                  1327.25           2112990.0   \n",
       "2  POOL SPECIALIST-Retailers                    39.68           1419377.0   \n",
       "\n",
       "   Order origin  \n",
       "0            25  \n",
       "1            25  \n",
       "2            25  "
      ]
     },
     "execution_count": 4,
     "metadata": {},
     "output_type": "execute_result"
    }
   ],
   "source": [
    "df.head(3)"
   ]
  },
  {
   "cell_type": "code",
   "execution_count": 5,
   "metadata": {},
   "outputs": [],
   "source": [
    "# Renaming Columns:\n",
    "df = df.rename(columns={'Delivery note date': 'Purchase Date',\n",
    "                        'Customer Name': 'Customer name', \n",
    "                        'Global CoFX Amount (net)': 'Global Amount'})"
   ]
  },
  {
   "cell_type": "code",
   "execution_count": 6,
   "metadata": {},
   "outputs": [
    {
     "data": {
      "text/plain": [
       "array(['PISCINE EVOLUTION', 'PIACENTI PATRICK', 'UP-LR', ...,\n",
       "       'BPJ PISCINE - FUSION', 'IDEAL PISCINE & SPA - HYDRO SUD',\n",
       "       'ATP PISCINES'], dtype=object)"
      ]
     },
     "execution_count": 6,
     "metadata": {},
     "output_type": "execute_result"
    }
   ],
   "source": [
    "df[\"Customer name\"].unique()"
   ]
  },
  {
   "cell_type": "code",
   "execution_count": 7,
   "metadata": {},
   "outputs": [],
   "source": [
    "df[\"Customer name\"] = df[\"Customer name\"].str.replace(r' - 100', '')\n",
    "df[\"Customer name\"] = df[\"Customer name\"].str.replace(r'(?!-)[^\\w\\s]', '', regex=True)\n",
    "df[\"Customer name\"] = df[\"Customer name\"].str.replace('Ã‘', 'A')\n",
    "df[\"Customer name\"] = df[\"Customer name\"].str.replace('Ã“', 'A')\n",
    "df[\"Customer name\"] = df[\"Customer name\"].str.replace(r'[^\\x00-\\x7f]', '', regex=True)\n",
    "df[\"Customer name\"] = df[\"Customer name\"].str.strip()"
   ]
  },
  {
   "cell_type": "code",
   "execution_count": 8,
   "metadata": {},
   "outputs": [
    {
     "data": {
      "text/html": [
       "<div>\n",
       "<style scoped>\n",
       "    .dataframe tbody tr th:only-of-type {\n",
       "        vertical-align: middle;\n",
       "    }\n",
       "\n",
       "    .dataframe tbody tr th {\n",
       "        vertical-align: top;\n",
       "    }\n",
       "\n",
       "    .dataframe thead th {\n",
       "        text-align: right;\n",
       "    }\n",
       "</style>\n",
       "<table border=\"1\" class=\"dataframe\">\n",
       "  <thead>\n",
       "    <tr style=\"text-align: right;\">\n",
       "      <th></th>\n",
       "      <th>Purchase Date</th>\n",
       "      <th>Customer name</th>\n",
       "      <th>Global Amount</th>\n",
       "    </tr>\n",
       "  </thead>\n",
       "  <tbody>\n",
       "    <tr>\n",
       "      <th>0</th>\n",
       "      <td>2023-01-02 00:00:00</td>\n",
       "      <td>PISCINE EVOLUTION</td>\n",
       "      <td>-12.11</td>\n",
       "    </tr>\n",
       "    <tr>\n",
       "      <th>1</th>\n",
       "      <td>2023-01-03 00:00:00</td>\n",
       "      <td>PIACENTI PATRICK</td>\n",
       "      <td>1327.25</td>\n",
       "    </tr>\n",
       "    <tr>\n",
       "      <th>2</th>\n",
       "      <td>2023-01-03 00:00:00</td>\n",
       "      <td>UP-LR</td>\n",
       "      <td>39.68</td>\n",
       "    </tr>\n",
       "    <tr>\n",
       "      <th>3</th>\n",
       "      <td>2023-01-03 00:00:00</td>\n",
       "      <td>MES PISCINES BLAYE</td>\n",
       "      <td>678.43</td>\n",
       "    </tr>\n",
       "    <tr>\n",
       "      <th>4</th>\n",
       "      <td>2023-01-03 00:00:00</td>\n",
       "      <td>AQUITAINE RENOVATION PISCINE</td>\n",
       "      <td>759.35</td>\n",
       "    </tr>\n",
       "    <tr>\n",
       "      <th>...</th>\n",
       "      <td>...</td>\n",
       "      <td>...</td>\n",
       "      <td>...</td>\n",
       "    </tr>\n",
       "    <tr>\n",
       "      <th>5007</th>\n",
       "      <td>2023-06-30 00:00:00</td>\n",
       "      <td>OLOISIRSOSERVICES SARL</td>\n",
       "      <td>717.20</td>\n",
       "    </tr>\n",
       "    <tr>\n",
       "      <th>5008</th>\n",
       "      <td>2023-06-30 00:00:00</td>\n",
       "      <td>LEPERE PISCINES</td>\n",
       "      <td>163.35</td>\n",
       "    </tr>\n",
       "    <tr>\n",
       "      <th>5009</th>\n",
       "      <td>2023-06-30 00:00:00</td>\n",
       "      <td>GUILLAUME THOMAZEAU</td>\n",
       "      <td>389.29</td>\n",
       "    </tr>\n",
       "    <tr>\n",
       "      <th>5010</th>\n",
       "      <td>2023-06-30 00:00:00</td>\n",
       "      <td>OPULSION</td>\n",
       "      <td>-251.37</td>\n",
       "    </tr>\n",
       "    <tr>\n",
       "      <th>5011</th>\n",
       "      <td>2023-06-30 00:00:00</td>\n",
       "      <td>AQUATECHNIQUE</td>\n",
       "      <td>2344.79</td>\n",
       "    </tr>\n",
       "  </tbody>\n",
       "</table>\n",
       "<p>5012 rows × 3 columns</p>\n",
       "</div>"
      ],
      "text/plain": [
       "            Purchase Date                 Customer name Global Amount\n",
       "0     2023-01-02 00:00:00             PISCINE EVOLUTION        -12.11\n",
       "1     2023-01-03 00:00:00              PIACENTI PATRICK       1327.25\n",
       "2     2023-01-03 00:00:00                         UP-LR         39.68\n",
       "3     2023-01-03 00:00:00            MES PISCINES BLAYE        678.43\n",
       "4     2023-01-03 00:00:00  AQUITAINE RENOVATION PISCINE        759.35\n",
       "...                   ...                           ...           ...\n",
       "5007  2023-06-30 00:00:00        OLOISIRSOSERVICES SARL        717.20\n",
       "5008  2023-06-30 00:00:00               LEPERE PISCINES        163.35\n",
       "5009  2023-06-30 00:00:00           GUILLAUME THOMAZEAU        389.29\n",
       "5010  2023-06-30 00:00:00                      OPULSION       -251.37\n",
       "5011  2023-06-30 00:00:00                 AQUATECHNIQUE       2344.79\n",
       "\n",
       "[5012 rows x 3 columns]"
      ]
     },
     "execution_count": 8,
     "metadata": {},
     "output_type": "execute_result"
    }
   ],
   "source": [
    "df2 = df[['Purchase Date', 'Customer name', 'Global Amount']]\n",
    "df2"
   ]
  },
  {
   "cell_type": "code",
   "execution_count": 9,
   "metadata": {},
   "outputs": [
    {
     "name": "stderr",
     "output_type": "stream",
     "text": [
      "/var/folders/yx/wg0v7ck91t14mxp5lfptvbh00000gn/T/ipykernel_5422/501058408.py:1: SettingWithCopyWarning: \n",
      "A value is trying to be set on a copy of a slice from a DataFrame.\n",
      "Try using .loc[row_indexer,col_indexer] = value instead\n",
      "\n",
      "See the caveats in the documentation: https://pandas.pydata.org/pandas-docs/stable/user_guide/indexing.html#returning-a-view-versus-a-copy\n",
      "  df2[\"Purchase Date\"] = pd.to_datetime(df2[\"Purchase Date\"])\n",
      "/var/folders/yx/wg0v7ck91t14mxp5lfptvbh00000gn/T/ipykernel_5422/501058408.py:2: SettingWithCopyWarning: \n",
      "A value is trying to be set on a copy of a slice from a DataFrame.\n",
      "Try using .loc[row_indexer,col_indexer] = value instead\n",
      "\n",
      "See the caveats in the documentation: https://pandas.pydata.org/pandas-docs/stable/user_guide/indexing.html#returning-a-view-versus-a-copy\n",
      "  df2['Global Amount'] = pd.to_numeric(df2['Global Amount'])\n"
     ]
    }
   ],
   "source": [
    "df2[\"Purchase Date\"] = pd.to_datetime(df2[\"Purchase Date\"])\n",
    "df2['Global Amount'] = pd.to_numeric(df2['Global Amount'])"
   ]
  },
  {
   "cell_type": "code",
   "execution_count": 10,
   "metadata": {},
   "outputs": [
    {
     "data": {
      "text/plain": [
       "Purchase Date    datetime64[ns]\n",
       "Customer name            object\n",
       "Global Amount           float64\n",
       "dtype: object"
      ]
     },
     "execution_count": 10,
     "metadata": {},
     "output_type": "execute_result"
    }
   ],
   "source": [
    "df2.dtypes"
   ]
  },
  {
   "cell_type": "code",
   "execution_count": 11,
   "metadata": {},
   "outputs": [],
   "source": [
    "snapshot_date = df2['Purchase Date'].max() + timedelta(days=1)"
   ]
  },
  {
   "cell_type": "code",
   "execution_count": 12,
   "metadata": {},
   "outputs": [],
   "source": [
    "df3 = df2.groupby('Customer name').agg({'Global Amount': ['sum','count'], 'Purchase Date': lambda x: (snapshot_date - x.max()).days}).reset_index()"
   ]
  },
  {
   "cell_type": "code",
   "execution_count": 13,
   "metadata": {},
   "outputs": [
    {
     "data": {
      "text/html": [
       "<div>\n",
       "<style scoped>\n",
       "    .dataframe tbody tr th:only-of-type {\n",
       "        vertical-align: middle;\n",
       "    }\n",
       "\n",
       "    .dataframe tbody tr th {\n",
       "        vertical-align: top;\n",
       "    }\n",
       "\n",
       "    .dataframe thead tr th {\n",
       "        text-align: left;\n",
       "    }\n",
       "</style>\n",
       "<table border=\"1\" class=\"dataframe\">\n",
       "  <thead>\n",
       "    <tr>\n",
       "      <th></th>\n",
       "      <th>Customer name</th>\n",
       "      <th colspan=\"2\" halign=\"left\">Global Amount</th>\n",
       "      <th>Purchase Date</th>\n",
       "    </tr>\n",
       "    <tr>\n",
       "      <th></th>\n",
       "      <th></th>\n",
       "      <th>sum</th>\n",
       "      <th>count</th>\n",
       "      <th>&lt;lambda&gt;</th>\n",
       "    </tr>\n",
       "  </thead>\n",
       "  <tbody>\n",
       "    <tr>\n",
       "      <th>0</th>\n",
       "      <td>123SPA</td>\n",
       "      <td>1370.40</td>\n",
       "      <td>1</td>\n",
       "      <td>24</td>\n",
       "    </tr>\n",
       "    <tr>\n",
       "      <th>1</th>\n",
       "      <td>2 T SAS</td>\n",
       "      <td>11.74</td>\n",
       "      <td>3</td>\n",
       "      <td>37</td>\n",
       "    </tr>\n",
       "    <tr>\n",
       "      <th>2</th>\n",
       "      <td>27 SARL</td>\n",
       "      <td>475.85</td>\n",
       "      <td>4</td>\n",
       "      <td>31</td>\n",
       "    </tr>\n",
       "  </tbody>\n",
       "</table>\n",
       "</div>"
      ],
      "text/plain": [
       "  Customer name Global Amount       Purchase Date\n",
       "                          sum count      <lambda>\n",
       "0        123SPA       1370.40     1            24\n",
       "1       2 T SAS         11.74     3            37\n",
       "2       27 SARL        475.85     4            31"
      ]
     },
     "execution_count": 13,
     "metadata": {},
     "output_type": "execute_result"
    }
   ],
   "source": [
    "df3.head(3)"
   ]
  },
  {
   "cell_type": "code",
   "execution_count": 14,
   "metadata": {},
   "outputs": [
    {
     "data": {
      "text/plain": [
       "MultiIndex([('Customer name',         ''),\n",
       "            ('Global Amount',      'sum'),\n",
       "            ('Global Amount',    'count'),\n",
       "            ('Purchase Date', '<lambda>')],\n",
       "           )"
      ]
     },
     "execution_count": 14,
     "metadata": {},
     "output_type": "execute_result"
    }
   ],
   "source": [
    "df3.columns"
   ]
  },
  {
   "cell_type": "code",
   "execution_count": 15,
   "metadata": {},
   "outputs": [
    {
     "data": {
      "text/html": [
       "<div>\n",
       "<style scoped>\n",
       "    .dataframe tbody tr th:only-of-type {\n",
       "        vertical-align: middle;\n",
       "    }\n",
       "\n",
       "    .dataframe tbody tr th {\n",
       "        vertical-align: top;\n",
       "    }\n",
       "\n",
       "    .dataframe thead tr th {\n",
       "        text-align: left;\n",
       "    }\n",
       "</style>\n",
       "<table border=\"1\" class=\"dataframe\">\n",
       "  <thead>\n",
       "    <tr>\n",
       "      <th></th>\n",
       "      <th>Customer name</th>\n",
       "      <th colspan=\"2\" halign=\"left\">Global Amount</th>\n",
       "      <th>Purchase Date</th>\n",
       "    </tr>\n",
       "    <tr>\n",
       "      <th></th>\n",
       "      <th></th>\n",
       "      <th>sum</th>\n",
       "      <th>count</th>\n",
       "      <th>&lt;lambda&gt;</th>\n",
       "    </tr>\n",
       "  </thead>\n",
       "  <tbody>\n",
       "    <tr>\n",
       "      <th>0</th>\n",
       "      <td>123SPA</td>\n",
       "      <td>1370.40</td>\n",
       "      <td>1</td>\n",
       "      <td>24</td>\n",
       "    </tr>\n",
       "    <tr>\n",
       "      <th>1</th>\n",
       "      <td>2 T SAS</td>\n",
       "      <td>11.74</td>\n",
       "      <td>3</td>\n",
       "      <td>37</td>\n",
       "    </tr>\n",
       "    <tr>\n",
       "      <th>2</th>\n",
       "      <td>27 SARL</td>\n",
       "      <td>475.85</td>\n",
       "      <td>4</td>\n",
       "      <td>31</td>\n",
       "    </tr>\n",
       "    <tr>\n",
       "      <th>3</th>\n",
       "      <td>3C CLIM - ORLEANS</td>\n",
       "      <td>5596.05</td>\n",
       "      <td>1</td>\n",
       "      <td>30</td>\n",
       "    </tr>\n",
       "    <tr>\n",
       "      <th>4</th>\n",
       "      <td>3E</td>\n",
       "      <td>263.05</td>\n",
       "      <td>2</td>\n",
       "      <td>79</td>\n",
       "    </tr>\n",
       "    <tr>\n",
       "      <th>...</th>\n",
       "      <td>...</td>\n",
       "      <td>...</td>\n",
       "      <td>...</td>\n",
       "      <td>...</td>\n",
       "    </tr>\n",
       "    <tr>\n",
       "      <th>1064</th>\n",
       "      <td>WATTIER FLORENT</td>\n",
       "      <td>658.00</td>\n",
       "      <td>1</td>\n",
       "      <td>59</td>\n",
       "    </tr>\n",
       "    <tr>\n",
       "      <th>1065</th>\n",
       "      <td>WEST GARDEN PISCINES  LIGNE CLAIRE</td>\n",
       "      <td>482.38</td>\n",
       "      <td>2</td>\n",
       "      <td>30</td>\n",
       "    </tr>\n",
       "    <tr>\n",
       "      <th>1066</th>\n",
       "      <td>YACONO ALAIN AQUASERVICES66</td>\n",
       "      <td>1491.50</td>\n",
       "      <td>2</td>\n",
       "      <td>66</td>\n",
       "    </tr>\n",
       "    <tr>\n",
       "      <th>1067</th>\n",
       "      <td>YGPISCINES - YANNICK GROSEILLER</td>\n",
       "      <td>1035.40</td>\n",
       "      <td>3</td>\n",
       "      <td>4</td>\n",
       "    </tr>\n",
       "    <tr>\n",
       "      <th>1068</th>\n",
       "      <td>ZYKE PESSAC</td>\n",
       "      <td>2458.19</td>\n",
       "      <td>4</td>\n",
       "      <td>75</td>\n",
       "    </tr>\n",
       "  </tbody>\n",
       "</table>\n",
       "<p>1069 rows × 4 columns</p>\n",
       "</div>"
      ],
      "text/plain": [
       "                           Customer name Global Amount       Purchase Date\n",
       "                                                   sum count      <lambda>\n",
       "0                                 123SPA       1370.40     1            24\n",
       "1                                2 T SAS         11.74     3            37\n",
       "2                                27 SARL        475.85     4            31\n",
       "3                      3C CLIM - ORLEANS       5596.05     1            30\n",
       "4                                     3E        263.05     2            79\n",
       "...                                  ...           ...   ...           ...\n",
       "1064                     WATTIER FLORENT        658.00     1            59\n",
       "1065  WEST GARDEN PISCINES  LIGNE CLAIRE        482.38     2            30\n",
       "1066         YACONO ALAIN AQUASERVICES66       1491.50     2            66\n",
       "1067     YGPISCINES - YANNICK GROSEILLER       1035.40     3             4\n",
       "1068                         ZYKE PESSAC       2458.19     4            75\n",
       "\n",
       "[1069 rows x 4 columns]"
      ]
     },
     "execution_count": 15,
     "metadata": {},
     "output_type": "execute_result"
    }
   ],
   "source": [
    "df3"
   ]
  },
  {
   "cell_type": "code",
   "execution_count": 16,
   "metadata": {},
   "outputs": [],
   "source": [
    "df4 = df3.rename(columns={'': 'Customer Name',\n",
    "                          \"sum\": \"Monetary value\",\n",
    "                          'count': 'Frequency',\n",
    "                          '<lambda>': 'Recency'})"
   ]
  },
  {
   "cell_type": "code",
   "execution_count": 17,
   "metadata": {},
   "outputs": [
    {
     "data": {
      "text/html": [
       "<div>\n",
       "<style scoped>\n",
       "    .dataframe tbody tr th:only-of-type {\n",
       "        vertical-align: middle;\n",
       "    }\n",
       "\n",
       "    .dataframe tbody tr th {\n",
       "        vertical-align: top;\n",
       "    }\n",
       "\n",
       "    .dataframe thead tr th {\n",
       "        text-align: left;\n",
       "    }\n",
       "</style>\n",
       "<table border=\"1\" class=\"dataframe\">\n",
       "  <thead>\n",
       "    <tr>\n",
       "      <th></th>\n",
       "      <th>Customer name</th>\n",
       "      <th colspan=\"2\" halign=\"left\">Global Amount</th>\n",
       "      <th>Purchase Date</th>\n",
       "    </tr>\n",
       "    <tr>\n",
       "      <th></th>\n",
       "      <th>Customer Name</th>\n",
       "      <th>Monetary value</th>\n",
       "      <th>Frequency</th>\n",
       "      <th>Recency</th>\n",
       "    </tr>\n",
       "  </thead>\n",
       "  <tbody>\n",
       "    <tr>\n",
       "      <th>0</th>\n",
       "      <td>123SPA</td>\n",
       "      <td>1370.40</td>\n",
       "      <td>1</td>\n",
       "      <td>24</td>\n",
       "    </tr>\n",
       "    <tr>\n",
       "      <th>1</th>\n",
       "      <td>2 T SAS</td>\n",
       "      <td>11.74</td>\n",
       "      <td>3</td>\n",
       "      <td>37</td>\n",
       "    </tr>\n",
       "    <tr>\n",
       "      <th>2</th>\n",
       "      <td>27 SARL</td>\n",
       "      <td>475.85</td>\n",
       "      <td>4</td>\n",
       "      <td>31</td>\n",
       "    </tr>\n",
       "    <tr>\n",
       "      <th>3</th>\n",
       "      <td>3C CLIM - ORLEANS</td>\n",
       "      <td>5596.05</td>\n",
       "      <td>1</td>\n",
       "      <td>30</td>\n",
       "    </tr>\n",
       "    <tr>\n",
       "      <th>4</th>\n",
       "      <td>3E</td>\n",
       "      <td>263.05</td>\n",
       "      <td>2</td>\n",
       "      <td>79</td>\n",
       "    </tr>\n",
       "    <tr>\n",
       "      <th>...</th>\n",
       "      <td>...</td>\n",
       "      <td>...</td>\n",
       "      <td>...</td>\n",
       "      <td>...</td>\n",
       "    </tr>\n",
       "    <tr>\n",
       "      <th>1064</th>\n",
       "      <td>WATTIER FLORENT</td>\n",
       "      <td>658.00</td>\n",
       "      <td>1</td>\n",
       "      <td>59</td>\n",
       "    </tr>\n",
       "    <tr>\n",
       "      <th>1065</th>\n",
       "      <td>WEST GARDEN PISCINES  LIGNE CLAIRE</td>\n",
       "      <td>482.38</td>\n",
       "      <td>2</td>\n",
       "      <td>30</td>\n",
       "    </tr>\n",
       "    <tr>\n",
       "      <th>1066</th>\n",
       "      <td>YACONO ALAIN AQUASERVICES66</td>\n",
       "      <td>1491.50</td>\n",
       "      <td>2</td>\n",
       "      <td>66</td>\n",
       "    </tr>\n",
       "    <tr>\n",
       "      <th>1067</th>\n",
       "      <td>YGPISCINES - YANNICK GROSEILLER</td>\n",
       "      <td>1035.40</td>\n",
       "      <td>3</td>\n",
       "      <td>4</td>\n",
       "    </tr>\n",
       "    <tr>\n",
       "      <th>1068</th>\n",
       "      <td>ZYKE PESSAC</td>\n",
       "      <td>2458.19</td>\n",
       "      <td>4</td>\n",
       "      <td>75</td>\n",
       "    </tr>\n",
       "  </tbody>\n",
       "</table>\n",
       "<p>1069 rows × 4 columns</p>\n",
       "</div>"
      ],
      "text/plain": [
       "                           Customer name  Global Amount            \\\n",
       "                           Customer Name Monetary value Frequency   \n",
       "0                                 123SPA        1370.40         1   \n",
       "1                                2 T SAS          11.74         3   \n",
       "2                                27 SARL         475.85         4   \n",
       "3                      3C CLIM - ORLEANS        5596.05         1   \n",
       "4                                     3E         263.05         2   \n",
       "...                                  ...            ...       ...   \n",
       "1064                     WATTIER FLORENT         658.00         1   \n",
       "1065  WEST GARDEN PISCINES  LIGNE CLAIRE         482.38         2   \n",
       "1066         YACONO ALAIN AQUASERVICES66        1491.50         2   \n",
       "1067     YGPISCINES - YANNICK GROSEILLER        1035.40         3   \n",
       "1068                         ZYKE PESSAC        2458.19         4   \n",
       "\n",
       "     Purchase Date  \n",
       "           Recency  \n",
       "0               24  \n",
       "1               37  \n",
       "2               31  \n",
       "3               30  \n",
       "4               79  \n",
       "...            ...  \n",
       "1064            59  \n",
       "1065            30  \n",
       "1066            66  \n",
       "1067             4  \n",
       "1068            75  \n",
       "\n",
       "[1069 rows x 4 columns]"
      ]
     },
     "execution_count": 17,
     "metadata": {},
     "output_type": "execute_result"
    }
   ],
   "source": [
    "df4"
   ]
  },
  {
   "cell_type": "code",
   "execution_count": 18,
   "metadata": {},
   "outputs": [],
   "source": [
    "# Dropping 1st level Index:\n",
    "df4.columns = df4.columns.droplevel(0)"
   ]
  },
  {
   "cell_type": "code",
   "execution_count": 19,
   "metadata": {},
   "outputs": [
    {
     "data": {
      "text/html": [
       "<div>\n",
       "<style scoped>\n",
       "    .dataframe tbody tr th:only-of-type {\n",
       "        vertical-align: middle;\n",
       "    }\n",
       "\n",
       "    .dataframe tbody tr th {\n",
       "        vertical-align: top;\n",
       "    }\n",
       "\n",
       "    .dataframe thead th {\n",
       "        text-align: right;\n",
       "    }\n",
       "</style>\n",
       "<table border=\"1\" class=\"dataframe\">\n",
       "  <thead>\n",
       "    <tr style=\"text-align: right;\">\n",
       "      <th></th>\n",
       "      <th>Customer Name</th>\n",
       "      <th>Monetary value</th>\n",
       "      <th>Frequency</th>\n",
       "      <th>Recency</th>\n",
       "    </tr>\n",
       "  </thead>\n",
       "  <tbody>\n",
       "    <tr>\n",
       "      <th>0</th>\n",
       "      <td>123SPA</td>\n",
       "      <td>1370.40</td>\n",
       "      <td>1</td>\n",
       "      <td>24</td>\n",
       "    </tr>\n",
       "    <tr>\n",
       "      <th>1</th>\n",
       "      <td>2 T SAS</td>\n",
       "      <td>11.74</td>\n",
       "      <td>3</td>\n",
       "      <td>37</td>\n",
       "    </tr>\n",
       "    <tr>\n",
       "      <th>2</th>\n",
       "      <td>27 SARL</td>\n",
       "      <td>475.85</td>\n",
       "      <td>4</td>\n",
       "      <td>31</td>\n",
       "    </tr>\n",
       "  </tbody>\n",
       "</table>\n",
       "</div>"
      ],
      "text/plain": [
       "  Customer Name  Monetary value  Frequency  Recency\n",
       "0        123SPA         1370.40          1       24\n",
       "1       2 T SAS           11.74          3       37\n",
       "2       27 SARL          475.85          4       31"
      ]
     },
     "execution_count": 19,
     "metadata": {},
     "output_type": "execute_result"
    }
   ],
   "source": [
    "df4.head(3)"
   ]
  },
  {
   "cell_type": "code",
   "execution_count": 20,
   "metadata": {},
   "outputs": [],
   "source": [
    "df4.to_excel(f\"./{month}/FR/RFM_FR_{month}.xlsx\", index=False)"
   ]
  },
  {
   "cell_type": "code",
   "execution_count": null,
   "metadata": {},
   "outputs": [],
   "source": []
  }
 ],
 "metadata": {
  "kernelspec": {
   "display_name": "Python 3 (ipykernel)",
   "language": "python",
   "name": "python3"
  },
  "language_info": {
   "codemirror_mode": {
    "name": "ipython",
    "version": 3
   },
   "file_extension": ".py",
   "mimetype": "text/x-python",
   "name": "python",
   "nbconvert_exporter": "python",
   "pygments_lexer": "ipython3",
   "version": "3.8.8"
  },
  "varInspector": {
   "cols": {
    "lenName": 16,
    "lenType": 16,
    "lenVar": 40
   },
   "kernels_config": {
    "python": {
     "delete_cmd_postfix": "",
     "delete_cmd_prefix": "del ",
     "library": "var_list.py",
     "varRefreshCmd": "print(var_dic_list())"
    },
    "r": {
     "delete_cmd_postfix": ") ",
     "delete_cmd_prefix": "rm(",
     "library": "var_list.r",
     "varRefreshCmd": "cat(var_dic_list()) "
    }
   },
   "types_to_exclude": [
    "module",
    "function",
    "builtin_function_or_method",
    "instance",
    "_Feature"
   ],
   "window_display": false
  }
 },
 "nbformat": 4,
 "nbformat_minor": 1
}
