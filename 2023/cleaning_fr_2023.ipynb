{
 "cells": [
  {
   "cell_type": "code",
   "execution_count": 1,
   "metadata": {},
   "outputs": [],
   "source": [
    "import pandas as pd\n",
    "from datetime import timedelta"
   ]
  },
  {
   "cell_type": "code",
   "execution_count": 2,
   "metadata": {},
   "outputs": [],
   "source": [
    "# Read CSV with Decimals as comma:\n",
    "df = pd.read_csv(\"./Inputs/data FR (MAY 22 - APR 23).csv\", decimal=',')"
   ]
  },
  {
   "cell_type": "code",
   "execution_count": 3,
   "metadata": {},
   "outputs": [
    {
     "data": {
      "text/html": [
       "<div>\n",
       "<style scoped>\n",
       "    .dataframe tbody tr th:only-of-type {\n",
       "        vertical-align: middle;\n",
       "    }\n",
       "\n",
       "    .dataframe tbody tr th {\n",
       "        vertical-align: top;\n",
       "    }\n",
       "\n",
       "    .dataframe thead th {\n",
       "        text-align: right;\n",
       "    }\n",
       "</style>\n",
       "<table border=\"1\" class=\"dataframe\">\n",
       "  <thead>\n",
       "    <tr style=\"text-align: right;\">\n",
       "      <th></th>\n",
       "      <th>Company (code+name)</th>\n",
       "      <th>Year</th>\n",
       "      <th>Delivery note date</th>\n",
       "      <th>Customer code</th>\n",
       "      <th>Customer name</th>\n",
       "      <th>Segment code (customer)</th>\n",
       "      <th>Segment name (customer)</th>\n",
       "      <th>Global CoFX Amount (net)</th>\n",
       "      <th>Sales order number</th>\n",
       "      <th>Order origin</th>\n",
       "    </tr>\n",
       "  </thead>\n",
       "  <tbody>\n",
       "    <tr>\n",
       "      <th>0</th>\n",
       "      <td>050 - FLUIDRA COMMERCIAL FRANCE SAS</td>\n",
       "      <td>2022</td>\n",
       "      <td>2022-05-01 00:00:00</td>\n",
       "      <td>830400</td>\n",
       "      <td>AATE</td>\n",
       "      <td>14</td>\n",
       "      <td>POOL SPECIALIST-Retailers</td>\n",
       "      <td>349.13</td>\n",
       "      <td>6183514</td>\n",
       "      <td>25</td>\n",
       "    </tr>\n",
       "    <tr>\n",
       "      <th>1</th>\n",
       "      <td>050 - FLUIDRA COMMERCIAL FRANCE SAS</td>\n",
       "      <td>2022</td>\n",
       "      <td>2022-05-02 00:00:00</td>\n",
       "      <td>64372</td>\n",
       "      <td>LS TECHNIQUE MEDITERRANEE</td>\n",
       "      <td>14</td>\n",
       "      <td>POOL SPECIALIST-Retailers</td>\n",
       "      <td>70.62</td>\n",
       "      <td>2108967</td>\n",
       "      <td>25</td>\n",
       "    </tr>\n",
       "    <tr>\n",
       "      <th>2</th>\n",
       "      <td>050 - FLUIDRA COMMERCIAL FRANCE SAS</td>\n",
       "      <td>2022</td>\n",
       "      <td>2022-05-02 00:00:00</td>\n",
       "      <td>120478</td>\n",
       "      <td>EAU PISCINES SERVICES ROUERGUE</td>\n",
       "      <td>15</td>\n",
       "      <td>POOL SPECIALIST-Instal/Builder</td>\n",
       "      <td>144.04</td>\n",
       "      <td>4441899</td>\n",
       "      <td>25</td>\n",
       "    </tr>\n",
       "  </tbody>\n",
       "</table>\n",
       "</div>"
      ],
      "text/plain": [
       "                   Company (code+name)  Year   Delivery note date  \\\n",
       "0  050 - FLUIDRA COMMERCIAL FRANCE SAS  2022  2022-05-01 00:00:00   \n",
       "1  050 - FLUIDRA COMMERCIAL FRANCE SAS  2022  2022-05-02 00:00:00   \n",
       "2  050 - FLUIDRA COMMERCIAL FRANCE SAS  2022  2022-05-02 00:00:00   \n",
       "\n",
       "   Customer code                   Customer name  Segment code (customer)  \\\n",
       "0         830400                            AATE                       14   \n",
       "1          64372       LS TECHNIQUE MEDITERRANEE                       14   \n",
       "2         120478  EAU PISCINES SERVICES ROUERGUE                       15   \n",
       "\n",
       "          Segment name (customer)  Global CoFX Amount (net)  \\\n",
       "0       POOL SPECIALIST-Retailers                    349.13   \n",
       "1       POOL SPECIALIST-Retailers                     70.62   \n",
       "2  POOL SPECIALIST-Instal/Builder                    144.04   \n",
       "\n",
       "  Sales order number  Order origin  \n",
       "0            6183514            25  \n",
       "1            2108967            25  \n",
       "2            4441899            25  "
      ]
     },
     "execution_count": 3,
     "metadata": {},
     "output_type": "execute_result"
    }
   ],
   "source": [
    "df.head(3)"
   ]
  },
  {
   "cell_type": "code",
   "execution_count": 4,
   "metadata": {},
   "outputs": [],
   "source": [
    "# Renaming Columns:\n",
    "df = df.rename(columns={'Delivery note date': 'Purchase Date',\n",
    "                        'Customer Name': 'Customer name', \n",
    "                        'Global CoFX Amount (net)': 'Global Amount'})"
   ]
  },
  {
   "cell_type": "code",
   "execution_count": 5,
   "metadata": {},
   "outputs": [
    {
     "data": {
      "text/plain": [
       "array(['AATE', 'LS TECHNIQUE MEDITERRANEE',\n",
       "       'EAU PISCINES SERVICES ROUERGUE', ...,\n",
       "       'FONTENEAU PAYSAGISTE SARL - EAU SHOP', 'VENDEE SPA - OASIS',\n",
       "       'EMYG AQUACULTURE'], dtype=object)"
      ]
     },
     "execution_count": 5,
     "metadata": {},
     "output_type": "execute_result"
    }
   ],
   "source": [
    "df[\"Customer name\"].unique()"
   ]
  },
  {
   "cell_type": "code",
   "execution_count": 6,
   "metadata": {},
   "outputs": [],
   "source": [
    "df[\"Customer name\"] = df[\"Customer name\"].str.replace(r' - 100', '')\n",
    "df[\"Customer name\"] = df[\"Customer name\"].str.replace(r'(?!-)[^\\w\\s]', '', regex=True)\n",
    "df[\"Customer name\"] = df[\"Customer name\"].str.replace('Ã‘', 'A')\n",
    "df[\"Customer name\"] = df[\"Customer name\"].str.replace('Ã“', 'A')\n",
    "df[\"Customer name\"] = df[\"Customer name\"].str.replace(r'[^\\x00-\\x7f]', '', regex=True)\n",
    "df[\"Customer name\"] = df[\"Customer name\"].str.strip()"
   ]
  },
  {
   "cell_type": "code",
   "execution_count": 7,
   "metadata": {},
   "outputs": [
    {
     "data": {
      "text/html": [
       "<div>\n",
       "<style scoped>\n",
       "    .dataframe tbody tr th:only-of-type {\n",
       "        vertical-align: middle;\n",
       "    }\n",
       "\n",
       "    .dataframe tbody tr th {\n",
       "        vertical-align: top;\n",
       "    }\n",
       "\n",
       "    .dataframe thead th {\n",
       "        text-align: right;\n",
       "    }\n",
       "</style>\n",
       "<table border=\"1\" class=\"dataframe\">\n",
       "  <thead>\n",
       "    <tr style=\"text-align: right;\">\n",
       "      <th></th>\n",
       "      <th>Purchase Date</th>\n",
       "      <th>Customer name</th>\n",
       "      <th>Global Amount</th>\n",
       "    </tr>\n",
       "  </thead>\n",
       "  <tbody>\n",
       "    <tr>\n",
       "      <th>0</th>\n",
       "      <td>2022-05-01 00:00:00</td>\n",
       "      <td>AATE</td>\n",
       "      <td>349.13</td>\n",
       "    </tr>\n",
       "    <tr>\n",
       "      <th>1</th>\n",
       "      <td>2022-05-02 00:00:00</td>\n",
       "      <td>LS TECHNIQUE MEDITERRANEE</td>\n",
       "      <td>70.62</td>\n",
       "    </tr>\n",
       "    <tr>\n",
       "      <th>2</th>\n",
       "      <td>2022-05-02 00:00:00</td>\n",
       "      <td>EAU PISCINES SERVICES ROUERGUE</td>\n",
       "      <td>144.04</td>\n",
       "    </tr>\n",
       "    <tr>\n",
       "      <th>3</th>\n",
       "      <td>2022-05-02 00:00:00</td>\n",
       "      <td>ESPACO</td>\n",
       "      <td>543.92</td>\n",
       "    </tr>\n",
       "    <tr>\n",
       "      <th>4</th>\n",
       "      <td>2022-05-02 00:00:00</td>\n",
       "      <td>VERT MARINE 17</td>\n",
       "      <td>555.62</td>\n",
       "    </tr>\n",
       "    <tr>\n",
       "      <th>...</th>\n",
       "      <td>...</td>\n",
       "      <td>...</td>\n",
       "      <td>...</td>\n",
       "    </tr>\n",
       "    <tr>\n",
       "      <th>6787</th>\n",
       "      <td>2023-04-28 00:00:00</td>\n",
       "      <td>SWIMMING COOL VENDEE</td>\n",
       "      <td>291.50</td>\n",
       "    </tr>\n",
       "    <tr>\n",
       "      <th>6788</th>\n",
       "      <td>2023-04-28 00:00:00</td>\n",
       "      <td>ARROLIMOUSIN</td>\n",
       "      <td>4213.08</td>\n",
       "    </tr>\n",
       "    <tr>\n",
       "      <th>6789</th>\n",
       "      <td>2023-04-28 00:00:00</td>\n",
       "      <td>MB5 PISCINE</td>\n",
       "      <td>120.60</td>\n",
       "    </tr>\n",
       "    <tr>\n",
       "      <th>6790</th>\n",
       "      <td>2023-04-29 00:00:00</td>\n",
       "      <td>PISCINE PLUS JUVIGNAC - FUSION</td>\n",
       "      <td>1050.60</td>\n",
       "    </tr>\n",
       "    <tr>\n",
       "      <th>6791</th>\n",
       "      <td>2023-04-29 00:00:00</td>\n",
       "      <td>DARIC PISCINES</td>\n",
       "      <td>590.92</td>\n",
       "    </tr>\n",
       "  </tbody>\n",
       "</table>\n",
       "<p>6792 rows × 3 columns</p>\n",
       "</div>"
      ],
      "text/plain": [
       "            Purchase Date                   Customer name  Global Amount\n",
       "0     2022-05-01 00:00:00                            AATE         349.13\n",
       "1     2022-05-02 00:00:00       LS TECHNIQUE MEDITERRANEE          70.62\n",
       "2     2022-05-02 00:00:00  EAU PISCINES SERVICES ROUERGUE         144.04\n",
       "3     2022-05-02 00:00:00                          ESPACO         543.92\n",
       "4     2022-05-02 00:00:00                  VERT MARINE 17         555.62\n",
       "...                   ...                             ...            ...\n",
       "6787  2023-04-28 00:00:00            SWIMMING COOL VENDEE         291.50\n",
       "6788  2023-04-28 00:00:00                    ARROLIMOUSIN        4213.08\n",
       "6789  2023-04-28 00:00:00                     MB5 PISCINE         120.60\n",
       "6790  2023-04-29 00:00:00  PISCINE PLUS JUVIGNAC - FUSION        1050.60\n",
       "6791  2023-04-29 00:00:00                  DARIC PISCINES         590.92\n",
       "\n",
       "[6792 rows x 3 columns]"
      ]
     },
     "execution_count": 7,
     "metadata": {},
     "output_type": "execute_result"
    }
   ],
   "source": [
    "df2 = df[['Purchase Date', 'Customer name', 'Global Amount']]\n",
    "df2"
   ]
  },
  {
   "cell_type": "code",
   "execution_count": 8,
   "metadata": {},
   "outputs": [
    {
     "name": "stderr",
     "output_type": "stream",
     "text": [
      "/var/folders/yx/wg0v7ck91t14mxp5lfptvbh00000gn/T/ipykernel_2802/3164958156.py:1: SettingWithCopyWarning: \n",
      "A value is trying to be set on a copy of a slice from a DataFrame.\n",
      "Try using .loc[row_indexer,col_indexer] = value instead\n",
      "\n",
      "See the caveats in the documentation: https://pandas.pydata.org/pandas-docs/stable/user_guide/indexing.html#returning-a-view-versus-a-copy\n",
      "  df2[\"Purchase Date\"] = pd.to_datetime(df2[\"Purchase Date\"])\n"
     ]
    }
   ],
   "source": [
    "df2[\"Purchase Date\"] = pd.to_datetime(df2[\"Purchase Date\"])"
   ]
  },
  {
   "cell_type": "code",
   "execution_count": 9,
   "metadata": {},
   "outputs": [
    {
     "data": {
      "text/plain": [
       "Purchase Date    datetime64[ns]\n",
       "Customer name            object\n",
       "Global Amount           float64\n",
       "dtype: object"
      ]
     },
     "execution_count": 9,
     "metadata": {},
     "output_type": "execute_result"
    }
   ],
   "source": [
    "df2.dtypes"
   ]
  },
  {
   "cell_type": "code",
   "execution_count": 10,
   "metadata": {},
   "outputs": [],
   "source": [
    "snapshot_date = df2['Purchase Date'].max() + timedelta(days=1)"
   ]
  },
  {
   "cell_type": "code",
   "execution_count": 11,
   "metadata": {},
   "outputs": [],
   "source": [
    "df3 = df2.groupby('Customer name').agg({'Global Amount': ['sum','count'], 'Purchase Date': lambda x: (snapshot_date - x.max()).days}).reset_index()"
   ]
  },
  {
   "cell_type": "code",
   "execution_count": 12,
   "metadata": {},
   "outputs": [
    {
     "data": {
      "text/html": [
       "<div>\n",
       "<style scoped>\n",
       "    .dataframe tbody tr th:only-of-type {\n",
       "        vertical-align: middle;\n",
       "    }\n",
       "\n",
       "    .dataframe tbody tr th {\n",
       "        vertical-align: top;\n",
       "    }\n",
       "\n",
       "    .dataframe thead tr th {\n",
       "        text-align: left;\n",
       "    }\n",
       "</style>\n",
       "<table border=\"1\" class=\"dataframe\">\n",
       "  <thead>\n",
       "    <tr>\n",
       "      <th></th>\n",
       "      <th>Customer name</th>\n",
       "      <th colspan=\"2\" halign=\"left\">Global Amount</th>\n",
       "      <th>Purchase Date</th>\n",
       "    </tr>\n",
       "    <tr>\n",
       "      <th></th>\n",
       "      <th></th>\n",
       "      <th>sum</th>\n",
       "      <th>count</th>\n",
       "      <th>&lt;lambda&gt;</th>\n",
       "    </tr>\n",
       "  </thead>\n",
       "  <tbody>\n",
       "    <tr>\n",
       "      <th>0</th>\n",
       "      <td>2 ROUES MOTOCULTURE OUTIMAG 0255</td>\n",
       "      <td>1291.78</td>\n",
       "      <td>4</td>\n",
       "      <td>284</td>\n",
       "    </tr>\n",
       "    <tr>\n",
       "      <th>1</th>\n",
       "      <td>2 T SAS</td>\n",
       "      <td>526.07</td>\n",
       "      <td>2</td>\n",
       "      <td>3</td>\n",
       "    </tr>\n",
       "    <tr>\n",
       "      <th>2</th>\n",
       "      <td>27 SARL</td>\n",
       "      <td>1247.27</td>\n",
       "      <td>7</td>\n",
       "      <td>4</td>\n",
       "    </tr>\n",
       "  </tbody>\n",
       "</table>\n",
       "</div>"
      ],
      "text/plain": [
       "                      Customer name Global Amount       Purchase Date\n",
       "                                              sum count      <lambda>\n",
       "0  2 ROUES MOTOCULTURE OUTIMAG 0255       1291.78     4           284\n",
       "1                           2 T SAS        526.07     2             3\n",
       "2                           27 SARL       1247.27     7             4"
      ]
     },
     "execution_count": 12,
     "metadata": {},
     "output_type": "execute_result"
    }
   ],
   "source": [
    "df3.head(3)"
   ]
  },
  {
   "cell_type": "code",
   "execution_count": 13,
   "metadata": {},
   "outputs": [
    {
     "data": {
      "text/plain": [
       "MultiIndex([('Customer name',         ''),\n",
       "            ('Global Amount',      'sum'),\n",
       "            ('Global Amount',    'count'),\n",
       "            ('Purchase Date', '<lambda>')],\n",
       "           )"
      ]
     },
     "execution_count": 13,
     "metadata": {},
     "output_type": "execute_result"
    }
   ],
   "source": [
    "df3.columns"
   ]
  },
  {
   "cell_type": "code",
   "execution_count": 14,
   "metadata": {},
   "outputs": [],
   "source": [
    "df4 = df3.rename(columns={'': 'Customer Name',\n",
    "                          \"sum\": \"Monetary value\",\n",
    "                          'count': 'Frequency',\n",
    "                          '<lambda>': 'Recency'})"
   ]
  },
  {
   "cell_type": "code",
   "execution_count": 15,
   "metadata": {},
   "outputs": [],
   "source": [
    "# Dropping 1st level Index:\n",
    "df4.columns = df4.columns.droplevel(0)"
   ]
  },
  {
   "cell_type": "code",
   "execution_count": 16,
   "metadata": {},
   "outputs": [
    {
     "data": {
      "text/html": [
       "<div>\n",
       "<style scoped>\n",
       "    .dataframe tbody tr th:only-of-type {\n",
       "        vertical-align: middle;\n",
       "    }\n",
       "\n",
       "    .dataframe tbody tr th {\n",
       "        vertical-align: top;\n",
       "    }\n",
       "\n",
       "    .dataframe thead th {\n",
       "        text-align: right;\n",
       "    }\n",
       "</style>\n",
       "<table border=\"1\" class=\"dataframe\">\n",
       "  <thead>\n",
       "    <tr style=\"text-align: right;\">\n",
       "      <th></th>\n",
       "      <th>Customer Name</th>\n",
       "      <th>Monetary value</th>\n",
       "      <th>Frequency</th>\n",
       "      <th>Recency</th>\n",
       "    </tr>\n",
       "  </thead>\n",
       "  <tbody>\n",
       "    <tr>\n",
       "      <th>0</th>\n",
       "      <td>2 ROUES MOTOCULTURE OUTIMAG 0255</td>\n",
       "      <td>1291.78</td>\n",
       "      <td>4</td>\n",
       "      <td>284</td>\n",
       "    </tr>\n",
       "    <tr>\n",
       "      <th>1</th>\n",
       "      <td>2 T SAS</td>\n",
       "      <td>526.07</td>\n",
       "      <td>2</td>\n",
       "      <td>3</td>\n",
       "    </tr>\n",
       "    <tr>\n",
       "      <th>2</th>\n",
       "      <td>27 SARL</td>\n",
       "      <td>1247.27</td>\n",
       "      <td>7</td>\n",
       "      <td>4</td>\n",
       "    </tr>\n",
       "  </tbody>\n",
       "</table>\n",
       "</div>"
      ],
      "text/plain": [
       "                      Customer Name  Monetary value  Frequency  Recency\n",
       "0  2 ROUES MOTOCULTURE OUTIMAG 0255         1291.78          4      284\n",
       "1                           2 T SAS          526.07          2        3\n",
       "2                           27 SARL         1247.27          7        4"
      ]
     },
     "execution_count": 16,
     "metadata": {},
     "output_type": "execute_result"
    }
   ],
   "source": [
    "df4.head(3)"
   ]
  },
  {
   "cell_type": "code",
   "execution_count": 17,
   "metadata": {},
   "outputs": [],
   "source": [
    "df4.to_excel(\"./outputs/RFM_FR_2023.xlsx\", index=False)"
   ]
  },
  {
   "cell_type": "code",
   "execution_count": null,
   "metadata": {},
   "outputs": [],
   "source": []
  }
 ],
 "metadata": {
  "kernelspec": {
   "display_name": "Python 3 (ipykernel)",
   "language": "python",
   "name": "python3"
  },
  "language_info": {
   "codemirror_mode": {
    "name": "ipython",
    "version": 3
   },
   "file_extension": ".py",
   "mimetype": "text/x-python",
   "name": "python",
   "nbconvert_exporter": "python",
   "pygments_lexer": "ipython3",
   "version": "3.8.8"
  },
  "varInspector": {
   "cols": {
    "lenName": 16,
    "lenType": 16,
    "lenVar": 40
   },
   "kernels_config": {
    "python": {
     "delete_cmd_postfix": "",
     "delete_cmd_prefix": "del ",
     "library": "var_list.py",
     "varRefreshCmd": "print(var_dic_list())"
    },
    "r": {
     "delete_cmd_postfix": ") ",
     "delete_cmd_prefix": "rm(",
     "library": "var_list.r",
     "varRefreshCmd": "cat(var_dic_list()) "
    }
   },
   "types_to_exclude": [
    "module",
    "function",
    "builtin_function_or_method",
    "instance",
    "_Feature"
   ],
   "window_display": false
  }
 },
 "nbformat": 4,
 "nbformat_minor": 1
}
