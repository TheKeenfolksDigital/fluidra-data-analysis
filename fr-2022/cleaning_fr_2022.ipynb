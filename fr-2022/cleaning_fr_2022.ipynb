{
 "cells": [
  {
   "cell_type": "code",
   "execution_count": 1,
   "metadata": {
    "collapsed": true
   },
   "outputs": [],
   "source": [
    "import pandas as pd\n",
    "from datetime import timedelta"
   ]
  },
  {
   "cell_type": "code",
   "execution_count": 2,
   "outputs": [],
   "source": [
    "df2 = pd.read_csv(\"FR 2022.csv\")"
   ],
   "metadata": {
    "collapsed": false
   }
  },
  {
   "cell_type": "code",
   "execution_count": 3,
   "outputs": [
    {
     "data": {
      "text/plain": "                     Company [code+name]  Year Booking date (order)  \\\n0     050- FLUIDRA COMMERCIAL FRANCE SAS  2022  2022-05-13 00:00:00   \n1     050- FLUIDRA COMMERCIAL FRANCE SAS  2022  2022-07-19 00:00:00   \n2     050- FLUIDRA COMMERCIAL FRANCE SAS  2022  2022-10-12 00:00:00   \n3     050- FLUIDRA COMMERCIAL FRANCE SAS  2022  2022-06-30 00:00:00   \n4     050- FLUIDRA COMMERCIAL FRANCE SAS  2022  2022-08-10 00:00:00   \n...                                  ...   ...                  ...   \n4447  050- FLUIDRA COMMERCIAL FRANCE SAS  2022  2022-11-21 00:00:00   \n4448  050- FLUIDRA COMMERCIAL FRANCE SAS  2022  2022-11-29 00:00:00   \n4449  050- FLUIDRA COMMERCIAL FRANCE SAS  2022  2022-12-19 00:00:00   \n4450  050- FLUIDRA COMMERCIAL FRANCE SAS  2022  2022-09-13 00:00:00   \n4451  050- FLUIDRA COMMERCIAL FRANCE SAS  2022  2022-05-09 00:00:00   \n\n      Customer code             Customer name  Segment code (customer)  \\\n0             10113      LES COQUES DE BRESSE                       16   \n1             10113      LES COQUES DE BRESSE                       16   \n2             10113      LES COQUES DE BRESSE                       16   \n3             10124  VACHOD - A L EAU PISCINE                       16   \n4             10124  VACHOD - A L EAU PISCINE                       16   \n...             ...                       ...                      ...   \n4447         988779       HYDRO CONCEPT SIEMC                       15   \n4448         988779       HYDRO CONCEPT SIEMC                       15   \n4449         988779       HYDRO CONCEPT SIEMC                       15   \n4450         995091             DIVERS CHILLY                       15   \n4451         999928   AZUREVA RONCE LES BAINS                       35   \n\n             Segment name (customer) Global CoFX Amount (net)  \\\n0     POOL SPECIALIST-Mobile/Service                  3468,48   \n1     POOL SPECIALIST-Mobile/Service                  1067,92   \n2     POOL SPECIALIST-Mobile/Service                  1724,47   \n3     POOL SPECIALIST-Mobile/Service                   383,81   \n4     POOL SPECIALIST-Mobile/Service                   298,00   \n...                              ...                      ...   \n4447  POOL SPECIALIST-Instal/Builder                   157,30   \n4448  POOL SPECIALIST-Instal/Builder                   824,34   \n4449  POOL SPECIALIST-Instal/Builder                    41,81   \n4450  POOL SPECIALIST-Instal/Builder                   503,17   \n4451     PUBLIC POOL    -Hospitality                519000,00   \n\n     Sales order number  Order origin  \n0               2414992            25  \n1               2418242            25  \n2               2421076            25  \n3               2417754            25  \n4               2419547            25  \n...                 ...           ...  \n4447            2112858            25  \n4448            2112983            25  \n4449            2113200            25  \n4450            1587801            25  \n4451             460885            46  \n\n[4452 rows x 10 columns]",
      "text/html": "<div>\n<style scoped>\n    .dataframe tbody tr th:only-of-type {\n        vertical-align: middle;\n    }\n\n    .dataframe tbody tr th {\n        vertical-align: top;\n    }\n\n    .dataframe thead th {\n        text-align: right;\n    }\n</style>\n<table border=\"1\" class=\"dataframe\">\n  <thead>\n    <tr style=\"text-align: right;\">\n      <th></th>\n      <th>Company [code+name]</th>\n      <th>Year</th>\n      <th>Booking date (order)</th>\n      <th>Customer code</th>\n      <th>Customer name</th>\n      <th>Segment code (customer)</th>\n      <th>Segment name (customer)</th>\n      <th>Global CoFX Amount (net)</th>\n      <th>Sales order number</th>\n      <th>Order origin</th>\n    </tr>\n  </thead>\n  <tbody>\n    <tr>\n      <th>0</th>\n      <td>050- FLUIDRA COMMERCIAL FRANCE SAS</td>\n      <td>2022</td>\n      <td>2022-05-13 00:00:00</td>\n      <td>10113</td>\n      <td>LES COQUES DE BRESSE</td>\n      <td>16</td>\n      <td>POOL SPECIALIST-Mobile/Service</td>\n      <td>3468,48</td>\n      <td>2414992</td>\n      <td>25</td>\n    </tr>\n    <tr>\n      <th>1</th>\n      <td>050- FLUIDRA COMMERCIAL FRANCE SAS</td>\n      <td>2022</td>\n      <td>2022-07-19 00:00:00</td>\n      <td>10113</td>\n      <td>LES COQUES DE BRESSE</td>\n      <td>16</td>\n      <td>POOL SPECIALIST-Mobile/Service</td>\n      <td>1067,92</td>\n      <td>2418242</td>\n      <td>25</td>\n    </tr>\n    <tr>\n      <th>2</th>\n      <td>050- FLUIDRA COMMERCIAL FRANCE SAS</td>\n      <td>2022</td>\n      <td>2022-10-12 00:00:00</td>\n      <td>10113</td>\n      <td>LES COQUES DE BRESSE</td>\n      <td>16</td>\n      <td>POOL SPECIALIST-Mobile/Service</td>\n      <td>1724,47</td>\n      <td>2421076</td>\n      <td>25</td>\n    </tr>\n    <tr>\n      <th>3</th>\n      <td>050- FLUIDRA COMMERCIAL FRANCE SAS</td>\n      <td>2022</td>\n      <td>2022-06-30 00:00:00</td>\n      <td>10124</td>\n      <td>VACHOD - A L EAU PISCINE</td>\n      <td>16</td>\n      <td>POOL SPECIALIST-Mobile/Service</td>\n      <td>383,81</td>\n      <td>2417754</td>\n      <td>25</td>\n    </tr>\n    <tr>\n      <th>4</th>\n      <td>050- FLUIDRA COMMERCIAL FRANCE SAS</td>\n      <td>2022</td>\n      <td>2022-08-10 00:00:00</td>\n      <td>10124</td>\n      <td>VACHOD - A L EAU PISCINE</td>\n      <td>16</td>\n      <td>POOL SPECIALIST-Mobile/Service</td>\n      <td>298,00</td>\n      <td>2419547</td>\n      <td>25</td>\n    </tr>\n    <tr>\n      <th>...</th>\n      <td>...</td>\n      <td>...</td>\n      <td>...</td>\n      <td>...</td>\n      <td>...</td>\n      <td>...</td>\n      <td>...</td>\n      <td>...</td>\n      <td>...</td>\n      <td>...</td>\n    </tr>\n    <tr>\n      <th>4447</th>\n      <td>050- FLUIDRA COMMERCIAL FRANCE SAS</td>\n      <td>2022</td>\n      <td>2022-11-21 00:00:00</td>\n      <td>988779</td>\n      <td>HYDRO CONCEPT SIEMC</td>\n      <td>15</td>\n      <td>POOL SPECIALIST-Instal/Builder</td>\n      <td>157,30</td>\n      <td>2112858</td>\n      <td>25</td>\n    </tr>\n    <tr>\n      <th>4448</th>\n      <td>050- FLUIDRA COMMERCIAL FRANCE SAS</td>\n      <td>2022</td>\n      <td>2022-11-29 00:00:00</td>\n      <td>988779</td>\n      <td>HYDRO CONCEPT SIEMC</td>\n      <td>15</td>\n      <td>POOL SPECIALIST-Instal/Builder</td>\n      <td>824,34</td>\n      <td>2112983</td>\n      <td>25</td>\n    </tr>\n    <tr>\n      <th>4449</th>\n      <td>050- FLUIDRA COMMERCIAL FRANCE SAS</td>\n      <td>2022</td>\n      <td>2022-12-19 00:00:00</td>\n      <td>988779</td>\n      <td>HYDRO CONCEPT SIEMC</td>\n      <td>15</td>\n      <td>POOL SPECIALIST-Instal/Builder</td>\n      <td>41,81</td>\n      <td>2113200</td>\n      <td>25</td>\n    </tr>\n    <tr>\n      <th>4450</th>\n      <td>050- FLUIDRA COMMERCIAL FRANCE SAS</td>\n      <td>2022</td>\n      <td>2022-09-13 00:00:00</td>\n      <td>995091</td>\n      <td>DIVERS CHILLY</td>\n      <td>15</td>\n      <td>POOL SPECIALIST-Instal/Builder</td>\n      <td>503,17</td>\n      <td>1587801</td>\n      <td>25</td>\n    </tr>\n    <tr>\n      <th>4451</th>\n      <td>050- FLUIDRA COMMERCIAL FRANCE SAS</td>\n      <td>2022</td>\n      <td>2022-05-09 00:00:00</td>\n      <td>999928</td>\n      <td>AZUREVA RONCE LES BAINS</td>\n      <td>35</td>\n      <td>PUBLIC POOL    -Hospitality</td>\n      <td>519000,00</td>\n      <td>460885</td>\n      <td>46</td>\n    </tr>\n  </tbody>\n</table>\n<p>4452 rows × 10 columns</p>\n</div>"
     },
     "execution_count": 3,
     "metadata": {},
     "output_type": "execute_result"
    }
   ],
   "source": [
    "df2"
   ],
   "metadata": {
    "collapsed": false
   }
  },
  {
   "cell_type": "code",
   "execution_count": 4,
   "outputs": [
    {
     "data": {
      "text/plain": "array(['LES COQUES DE BRESSE', 'VACHOD - A L EAU PISCINE', 'TC PISCINES',\n       ..., 'HYDRO CONCEPT SIEMC', 'DIVERS CHILLY',\n       'AZUREVA RONCE LES BAINS'], dtype=object)"
     },
     "execution_count": 4,
     "metadata": {},
     "output_type": "execute_result"
    }
   ],
   "source": [
    "df2[\"Customer name\"].unique()"
   ],
   "metadata": {
    "collapsed": false
   }
  },
  {
   "cell_type": "code",
   "execution_count": 5,
   "outputs": [],
   "source": [
    "df2[\"Customer name\"] = df2[\"Customer name\"].str.replace(r' - 100', '')\n",
    "df2[\"Customer name\"] = df2[\"Customer name\"].str.replace(r'(?!-)[^\\w\\s]', '', regex=True)\n",
    "df2[\"Customer name\"] = df2[\"Customer name\"].str.replace('Ã‘', 'A')\n",
    "df2[\"Customer name\"] = df2[\"Customer name\"].str.replace('Ã“', 'A')\n",
    "df2[\"Customer name\"] = df2[\"Customer name\"].str.replace(r'[^\\x00-\\x7f]', '', regex=True)\n",
    "df2[\"Customer name\"] = df2[\"Customer name\"].str.strip()"
   ],
   "metadata": {
    "collapsed": false
   }
  },
  {
   "cell_type": "code",
   "execution_count": 6,
   "outputs": [
    {
     "data": {
      "text/plain": "array(['LES COQUES DE BRESSE', 'VACHOD - A L EAU PISCINE', 'TC PISCINES',\n       ..., 'HYDRO CONCEPT SIEMC', 'DIVERS CHILLY',\n       'AZUREVA RONCE LES BAINS'], dtype=object)"
     },
     "execution_count": 6,
     "metadata": {},
     "output_type": "execute_result"
    }
   ],
   "source": [
    "df2[\"Customer name\"].unique()"
   ],
   "metadata": {
    "collapsed": false
   }
  },
  {
   "cell_type": "code",
   "execution_count": 7,
   "outputs": [],
   "source": [
    "df2 = df2[[\"Booking date (order)\", \"Global CoFX Amount (net)\", \"Customer name\"]]"
   ],
   "metadata": {
    "collapsed": false
   }
  },
  {
   "cell_type": "code",
   "execution_count": 8,
   "outputs": [],
   "source": [
    "df2 = df2.rename(columns={\"Booking date (order)\": \"Purchase Date\", 'Customer Name': 'Customer name', 'Global CoFX Amount (net)': 'Global Amount'})"
   ],
   "metadata": {
    "collapsed": false
   }
  },
  {
   "cell_type": "code",
   "execution_count": 9,
   "outputs": [
    {
     "data": {
      "text/plain": "            Purchase Date Global Amount             Customer name\n0     2022-05-13 00:00:00       3468,48      LES COQUES DE BRESSE\n1     2022-07-19 00:00:00       1067,92      LES COQUES DE BRESSE\n2     2022-10-12 00:00:00       1724,47      LES COQUES DE BRESSE\n3     2022-06-30 00:00:00        383,81  VACHOD - A L EAU PISCINE\n4     2022-08-10 00:00:00        298,00  VACHOD - A L EAU PISCINE\n...                   ...           ...                       ...\n4447  2022-11-21 00:00:00        157,30       HYDRO CONCEPT SIEMC\n4448  2022-11-29 00:00:00        824,34       HYDRO CONCEPT SIEMC\n4449  2022-12-19 00:00:00         41,81       HYDRO CONCEPT SIEMC\n4450  2022-09-13 00:00:00        503,17             DIVERS CHILLY\n4451  2022-05-09 00:00:00     519000,00   AZUREVA RONCE LES BAINS\n\n[4452 rows x 3 columns]",
      "text/html": "<div>\n<style scoped>\n    .dataframe tbody tr th:only-of-type {\n        vertical-align: middle;\n    }\n\n    .dataframe tbody tr th {\n        vertical-align: top;\n    }\n\n    .dataframe thead th {\n        text-align: right;\n    }\n</style>\n<table border=\"1\" class=\"dataframe\">\n  <thead>\n    <tr style=\"text-align: right;\">\n      <th></th>\n      <th>Purchase Date</th>\n      <th>Global Amount</th>\n      <th>Customer name</th>\n    </tr>\n  </thead>\n  <tbody>\n    <tr>\n      <th>0</th>\n      <td>2022-05-13 00:00:00</td>\n      <td>3468,48</td>\n      <td>LES COQUES DE BRESSE</td>\n    </tr>\n    <tr>\n      <th>1</th>\n      <td>2022-07-19 00:00:00</td>\n      <td>1067,92</td>\n      <td>LES COQUES DE BRESSE</td>\n    </tr>\n    <tr>\n      <th>2</th>\n      <td>2022-10-12 00:00:00</td>\n      <td>1724,47</td>\n      <td>LES COQUES DE BRESSE</td>\n    </tr>\n    <tr>\n      <th>3</th>\n      <td>2022-06-30 00:00:00</td>\n      <td>383,81</td>\n      <td>VACHOD - A L EAU PISCINE</td>\n    </tr>\n    <tr>\n      <th>4</th>\n      <td>2022-08-10 00:00:00</td>\n      <td>298,00</td>\n      <td>VACHOD - A L EAU PISCINE</td>\n    </tr>\n    <tr>\n      <th>...</th>\n      <td>...</td>\n      <td>...</td>\n      <td>...</td>\n    </tr>\n    <tr>\n      <th>4447</th>\n      <td>2022-11-21 00:00:00</td>\n      <td>157,30</td>\n      <td>HYDRO CONCEPT SIEMC</td>\n    </tr>\n    <tr>\n      <th>4448</th>\n      <td>2022-11-29 00:00:00</td>\n      <td>824,34</td>\n      <td>HYDRO CONCEPT SIEMC</td>\n    </tr>\n    <tr>\n      <th>4449</th>\n      <td>2022-12-19 00:00:00</td>\n      <td>41,81</td>\n      <td>HYDRO CONCEPT SIEMC</td>\n    </tr>\n    <tr>\n      <th>4450</th>\n      <td>2022-09-13 00:00:00</td>\n      <td>503,17</td>\n      <td>DIVERS CHILLY</td>\n    </tr>\n    <tr>\n      <th>4451</th>\n      <td>2022-05-09 00:00:00</td>\n      <td>519000,00</td>\n      <td>AZUREVA RONCE LES BAINS</td>\n    </tr>\n  </tbody>\n</table>\n<p>4452 rows × 3 columns</p>\n</div>"
     },
     "execution_count": 9,
     "metadata": {},
     "output_type": "execute_result"
    }
   ],
   "source": [
    "df2"
   ],
   "metadata": {
    "collapsed": false
   }
  },
  {
   "cell_type": "code",
   "execution_count": 10,
   "outputs": [
    {
     "data": {
      "text/plain": "Purchase Date    object\nGlobal Amount    object\nCustomer name    object\ndtype: object"
     },
     "execution_count": 10,
     "metadata": {},
     "output_type": "execute_result"
    }
   ],
   "source": [
    "df2.dtypes"
   ],
   "metadata": {
    "collapsed": false
   }
  },
  {
   "cell_type": "code",
   "execution_count": 11,
   "outputs": [],
   "source": [
    "df2[\"Global Amount\"] = df2[\"Global Amount\"].str.replace(\",\", \".\")"
   ],
   "metadata": {
    "collapsed": false
   }
  },
  {
   "cell_type": "code",
   "execution_count": 12,
   "outputs": [],
   "source": [
    "df2[\"Purchase Date\"] = pd.to_datetime(df2[\"Purchase Date\"])\n",
    "df2[\"Global Amount\"] = df2[\"Global Amount\"].astype(float)"
   ],
   "metadata": {
    "collapsed": false
   }
  },
  {
   "cell_type": "code",
   "execution_count": 13,
   "outputs": [],
   "source": [
    "snapshot_date = df2['Purchase Date'].max() + timedelta(days=1)"
   ],
   "metadata": {
    "collapsed": false
   }
  },
  {
   "cell_type": "code",
   "execution_count": 14,
   "outputs": [],
   "source": [
    "df5 = df2.groupby('Customer name').agg({'Global Amount': ['sum','count'], 'Purchase Date': lambda x: (snapshot_date - x.max()).days}).reset_index()"
   ],
   "metadata": {
    "collapsed": false
   }
  },
  {
   "cell_type": "code",
   "execution_count": 15,
   "outputs": [
    {
     "data": {
      "text/plain": "                      Customer name Global Amount       Purchase Date\n                                              sum count      <lambda>\n0                           27 SARL       1063.02     3           141\n1                   3B PISCINE SARL       4144.30     2           143\n2                          3D LINER        233.36     1            17\n3       A DEUX  PLUS - ENTREPRENDRE         48.18     1           337\n4                            A ET P        107.04     1           336\n...                             ...           ...   ...           ...\n1033                WILLIAM HUMBERT        525.89     1           307\n1034            WONDERPOOL CREATION       1292.04     1           231\n1035  XPRESSEAU - DESMOULIN ADELINE        510.38     1           234\n1036    YACONO ALAIN AQUASERVICES66       6424.35     6            87\n1037       ZUSSY THIERRYELSASSLINER       2267.28     4           224\n\n[1038 rows x 4 columns]",
      "text/html": "<div>\n<style scoped>\n    .dataframe tbody tr th:only-of-type {\n        vertical-align: middle;\n    }\n\n    .dataframe tbody tr th {\n        vertical-align: top;\n    }\n\n    .dataframe thead tr th {\n        text-align: left;\n    }\n</style>\n<table border=\"1\" class=\"dataframe\">\n  <thead>\n    <tr>\n      <th></th>\n      <th>Customer name</th>\n      <th colspan=\"2\" halign=\"left\">Global Amount</th>\n      <th>Purchase Date</th>\n    </tr>\n    <tr>\n      <th></th>\n      <th></th>\n      <th>sum</th>\n      <th>count</th>\n      <th>&lt;lambda&gt;</th>\n    </tr>\n  </thead>\n  <tbody>\n    <tr>\n      <th>0</th>\n      <td>27 SARL</td>\n      <td>1063.02</td>\n      <td>3</td>\n      <td>141</td>\n    </tr>\n    <tr>\n      <th>1</th>\n      <td>3B PISCINE SARL</td>\n      <td>4144.30</td>\n      <td>2</td>\n      <td>143</td>\n    </tr>\n    <tr>\n      <th>2</th>\n      <td>3D LINER</td>\n      <td>233.36</td>\n      <td>1</td>\n      <td>17</td>\n    </tr>\n    <tr>\n      <th>3</th>\n      <td>A DEUX  PLUS - ENTREPRENDRE</td>\n      <td>48.18</td>\n      <td>1</td>\n      <td>337</td>\n    </tr>\n    <tr>\n      <th>4</th>\n      <td>A ET P</td>\n      <td>107.04</td>\n      <td>1</td>\n      <td>336</td>\n    </tr>\n    <tr>\n      <th>...</th>\n      <td>...</td>\n      <td>...</td>\n      <td>...</td>\n      <td>...</td>\n    </tr>\n    <tr>\n      <th>1033</th>\n      <td>WILLIAM HUMBERT</td>\n      <td>525.89</td>\n      <td>1</td>\n      <td>307</td>\n    </tr>\n    <tr>\n      <th>1034</th>\n      <td>WONDERPOOL CREATION</td>\n      <td>1292.04</td>\n      <td>1</td>\n      <td>231</td>\n    </tr>\n    <tr>\n      <th>1035</th>\n      <td>XPRESSEAU - DESMOULIN ADELINE</td>\n      <td>510.38</td>\n      <td>1</td>\n      <td>234</td>\n    </tr>\n    <tr>\n      <th>1036</th>\n      <td>YACONO ALAIN AQUASERVICES66</td>\n      <td>6424.35</td>\n      <td>6</td>\n      <td>87</td>\n    </tr>\n    <tr>\n      <th>1037</th>\n      <td>ZUSSY THIERRYELSASSLINER</td>\n      <td>2267.28</td>\n      <td>4</td>\n      <td>224</td>\n    </tr>\n  </tbody>\n</table>\n<p>1038 rows × 4 columns</p>\n</div>"
     },
     "execution_count": 15,
     "metadata": {},
     "output_type": "execute_result"
    }
   ],
   "source": [
    "df5"
   ],
   "metadata": {
    "collapsed": false
   }
  },
  {
   "cell_type": "code",
   "execution_count": 16,
   "outputs": [],
   "source": [
    "df6 = df5.rename(columns={\"Global Amount\": \"Total monetary value\", 'count': 'Frequency', 'Purchase Date': 'Recency'})"
   ],
   "metadata": {
    "collapsed": false
   }
  },
  {
   "cell_type": "code",
   "execution_count": 17,
   "outputs": [
    {
     "data": {
      "text/plain": "                      Customer name Total monetary value            Recency\n                                                     sum Frequency <lambda>\n0                           27 SARL              1063.02         3      141\n1                   3B PISCINE SARL              4144.30         2      143\n2                          3D LINER               233.36         1       17\n3       A DEUX  PLUS - ENTREPRENDRE                48.18         1      337\n4                            A ET P               107.04         1      336\n...                             ...                  ...       ...      ...\n1033                WILLIAM HUMBERT               525.89         1      307\n1034            WONDERPOOL CREATION              1292.04         1      231\n1035  XPRESSEAU - DESMOULIN ADELINE               510.38         1      234\n1036    YACONO ALAIN AQUASERVICES66              6424.35         6       87\n1037       ZUSSY THIERRYELSASSLINER              2267.28         4      224\n\n[1038 rows x 4 columns]",
      "text/html": "<div>\n<style scoped>\n    .dataframe tbody tr th:only-of-type {\n        vertical-align: middle;\n    }\n\n    .dataframe tbody tr th {\n        vertical-align: top;\n    }\n\n    .dataframe thead tr th {\n        text-align: left;\n    }\n</style>\n<table border=\"1\" class=\"dataframe\">\n  <thead>\n    <tr>\n      <th></th>\n      <th>Customer name</th>\n      <th colspan=\"2\" halign=\"left\">Total monetary value</th>\n      <th>Recency</th>\n    </tr>\n    <tr>\n      <th></th>\n      <th></th>\n      <th>sum</th>\n      <th>Frequency</th>\n      <th>&lt;lambda&gt;</th>\n    </tr>\n  </thead>\n  <tbody>\n    <tr>\n      <th>0</th>\n      <td>27 SARL</td>\n      <td>1063.02</td>\n      <td>3</td>\n      <td>141</td>\n    </tr>\n    <tr>\n      <th>1</th>\n      <td>3B PISCINE SARL</td>\n      <td>4144.30</td>\n      <td>2</td>\n      <td>143</td>\n    </tr>\n    <tr>\n      <th>2</th>\n      <td>3D LINER</td>\n      <td>233.36</td>\n      <td>1</td>\n      <td>17</td>\n    </tr>\n    <tr>\n      <th>3</th>\n      <td>A DEUX  PLUS - ENTREPRENDRE</td>\n      <td>48.18</td>\n      <td>1</td>\n      <td>337</td>\n    </tr>\n    <tr>\n      <th>4</th>\n      <td>A ET P</td>\n      <td>107.04</td>\n      <td>1</td>\n      <td>336</td>\n    </tr>\n    <tr>\n      <th>...</th>\n      <td>...</td>\n      <td>...</td>\n      <td>...</td>\n      <td>...</td>\n    </tr>\n    <tr>\n      <th>1033</th>\n      <td>WILLIAM HUMBERT</td>\n      <td>525.89</td>\n      <td>1</td>\n      <td>307</td>\n    </tr>\n    <tr>\n      <th>1034</th>\n      <td>WONDERPOOL CREATION</td>\n      <td>1292.04</td>\n      <td>1</td>\n      <td>231</td>\n    </tr>\n    <tr>\n      <th>1035</th>\n      <td>XPRESSEAU - DESMOULIN ADELINE</td>\n      <td>510.38</td>\n      <td>1</td>\n      <td>234</td>\n    </tr>\n    <tr>\n      <th>1036</th>\n      <td>YACONO ALAIN AQUASERVICES66</td>\n      <td>6424.35</td>\n      <td>6</td>\n      <td>87</td>\n    </tr>\n    <tr>\n      <th>1037</th>\n      <td>ZUSSY THIERRYELSASSLINER</td>\n      <td>2267.28</td>\n      <td>4</td>\n      <td>224</td>\n    </tr>\n  </tbody>\n</table>\n<p>1038 rows × 4 columns</p>\n</div>"
     },
     "execution_count": 17,
     "metadata": {},
     "output_type": "execute_result"
    }
   ],
   "source": [
    "df6"
   ],
   "metadata": {
    "collapsed": false
   }
  },
  {
   "cell_type": "code",
   "execution_count": 18,
   "outputs": [],
   "source": [
    "df6.to_excel(\"frm_fr_2022.xlsx\")"
   ],
   "metadata": {
    "collapsed": false
   }
  },
  {
   "cell_type": "code",
   "execution_count": null,
   "outputs": [],
   "source": [],
   "metadata": {
    "collapsed": false
   }
  }
 ],
 "metadata": {
  "kernelspec": {
   "display_name": "Python 3",
   "language": "python",
   "name": "python3"
  },
  "language_info": {
   "codemirror_mode": {
    "name": "ipython",
    "version": 2
   },
   "file_extension": ".py",
   "mimetype": "text/x-python",
   "name": "python",
   "nbconvert_exporter": "python",
   "pygments_lexer": "ipython2",
   "version": "2.7.6"
  }
 },
 "nbformat": 4,
 "nbformat_minor": 0
}
